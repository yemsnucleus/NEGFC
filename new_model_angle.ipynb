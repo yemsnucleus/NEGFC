{
 "cells": [
  {
   "cell_type": "code",
   "execution_count": 28,
   "id": "f641036e",
   "metadata": {
    "scrolled": true
   },
   "outputs": [
    {
     "name": "stdout",
     "output_type": "stream",
     "text": [
      "The autoreload extension is already loaded. To reload it, use:\n",
      "  %reload_ext autoreload\n"
     ]
    }
   ],
   "source": [
    "import tensorflow as tf\n",
    "import matplotlib.pyplot as plt \n",
    "\n",
    "from tensorflow.keras.optimizers import Adam\n",
    "\n",
    "from gpu.negfc_models import get_model_new, get_model_angle\n",
    "from gpu.losses import reduce_std, wrapper, reduce_std_angle\n",
    "from gpu.data import load_data\n",
    "import numpy as np\n",
    "\n",
    "import os\n",
    "os.environ[\"CUDA_VISIBLE_DEVICES\"] = \"-1\"\n",
    "\n",
    "%load_ext autoreload\n",
    "%autoreload 2"
   ]
  },
  {
   "cell_type": "code",
   "execution_count": 29,
   "id": "a0aa31bd",
   "metadata": {
    "scrolled": true
   },
   "outputs": [
    {
     "name": "stdout",
     "output_type": "stream",
     "text": [
      "CPU times: user 12.6 s, sys: 506 ms, total: 13.1 s\n",
      "Wall time: 6.69 s\n"
     ]
    }
   ],
   "source": [
    "%%time\n",
    "root='./data/fake/'\n",
    "dataset, cube_shp, init_xy, init_flux = load_data(root, \n",
    "                                                  bkg_sigma=2, \n",
    "                                                  ncomp=2, \n",
    "                                                  num_peaks=3,\n",
    "                                                  normalize=False,\n",
    "                                                  psf_pos=0,\n",
    "                                                  )"
   ]
  },
  {
   "cell_type": "code",
   "execution_count": 30,
   "id": "ac3f63d2",
   "metadata": {},
   "outputs": [],
   "source": [
    "init_x = init_xy[:, 0] - cube_shp[-1]/2\n",
    "init_y = init_xy[:, 1] - cube_shp[-2]/2\n",
    "\n",
    "\n",
    "init_radius = tf.sqrt(tf.pow(init_y, 2)+tf.pow(init_x, 2))\n",
    "\n",
    "angle = tf.atan2(init_y, init_x) # radians\n",
    "angle = angle/tf.constant(np.pi)*180.  # degrees\n",
    "init_theta = tf.math.mod(angle, 360.) # bound up to 1 circumference  "
   ]
  },
  {
   "cell_type": "code",
   "execution_count": 31,
   "id": "be7d61aa",
   "metadata": {},
   "outputs": [
    {
     "data": {
      "text/plain": [
       "(array([120.19304, 135.65742], dtype=float32),\n",
       " array([249.15666,  74.78336], dtype=float32),\n",
       " array([131.41001151,   1.91131941]))"
      ]
     },
     "execution_count": 31,
     "metadata": {},
     "output_type": "execute_result"
    }
   ],
   "source": [
    "init_theta.numpy(), init_radius.numpy(), init_flux"
   ]
  },
  {
   "cell_type": "code",
   "execution_count": 32,
   "id": "62e3f6cd",
   "metadata": {},
   "outputs": [],
   "source": [
    "model = get_model_angle(init_radius, init_theta, init_flux, cube_shp)"
   ]
  },
  {
   "cell_type": "code",
   "execution_count": 33,
   "id": "32328800",
   "metadata": {},
   "outputs": [],
   "source": [
    "angle = 120. \n",
    "r = 250."
   ]
  },
  {
   "cell_type": "code",
   "execution_count": 34,
   "id": "098de237",
   "metadata": {},
   "outputs": [],
   "source": [
    "loss_fn = wrapper(reduce_std_angle, nfwhm=2, debug=False, minimize='std')\n",
    "model.compile(loss_fn=loss_fn, \n",
    "              optimizer=tf.keras.optimizers.Adam(5))"
   ]
  },
  {
   "cell_type": "code",
   "execution_count": null,
   "id": "6ae0abaf",
   "metadata": {},
   "outputs": [],
   "source": []
  },
  {
   "cell_type": "code",
   "execution_count": 35,
   "id": "d219db7b",
   "metadata": {},
   "outputs": [],
   "source": [
    "# from gpu.losses import reduce_std_angle\n",
    "\n",
    "# %load_ext autoreload\n",
    "# %autoreload 2\n",
    "\n",
    "# for x, y_true in dataset:\n",
    "#     y_pred = model(x)\n",
    "#     val = loss_fn(y_true, y_pred)\n",
    "#     fig, axes = plt.subplots(1, 2, dpi=300, sharex=True, sharey=True)\n",
    "\n",
    "#     axes[0].imshow(y_true['cube'][0, 0])\n",
    "#     axes[1].imshow(tf.reduce_sum(val, 1)[0])\n",
    "\n",
    "#     fake   = y_pred[0]\n",
    "#     radius = y_pred[1]\n",
    "#     theta  = y_pred[2] \n",
    "\n",
    "#     n_candidates = tf.shape(fake)[0]\n",
    "#     n_frames = tf.shape(fake)[1]\n",
    "#     w = tf.shape(fake)[2]\n",
    "#     h = tf.shape(fake)[3]\n",
    "    \n",
    "#     cube = tf.tile(y_true['cube'], [n_candidates, 1, 1, 1])\n",
    "#     cube = tf.expand_dims(cube, -1)\n",
    "\n",
    "#     injected = fake + cube\n",
    "    \n",
    "#     # Create a grid of x and y coordinates\n",
    "#     x_coords = tf.range(w, dtype=tf.float32)\n",
    "#     y_coords = tf.range(h, dtype=tf.float32)\n",
    "#     X, Y = tf.meshgrid(x_coords, y_coords)\n",
    "#     Xf = tf.tile(tf.expand_dims(X, 0), [n_frames, 1, 1])\n",
    "#     Yf = tf.tile(tf.expand_dims(Y, 0), [n_frames, 1, 1])\n",
    "    \n",
    "#     def fn(currr, currtheta):\n",
    "#         rot_theta = currtheta - y_true['rot_angles']# rotate angles \n",
    "#         rot_theta = tf.experimental.numpy.deg2rad(rot_theta)\n",
    "#         x0 = tf.multiply(currr, tf.cos(rot_theta)) + tf.cast(h/2, tf.float32)\n",
    "#         y0 = tf.multiply(currr, tf.sin(rot_theta)) + tf.cast(w/2, tf.float32)   \n",
    "#         x0 = tf.reshape(x0, [-1, 1, 1])\n",
    "#         y0 = tf.reshape(y0, [-1, 1, 1])\n",
    "\n",
    "#         distances = tf.sqrt(tf.pow(Xf - x0, 2) + tf.pow(Yf - y0, 2))\n",
    "#         mask = tf.where(distances <= 2*y_true['fwhm'], 1., 0.)\n",
    "#         return mask\n",
    "    \n",
    "#     mask_all = tf.map_fn(lambda x: fn(x[0], x[1]),\n",
    "#                      (radius, theta),\n",
    "#                      fn_output_signature=(tf.float32))      \n",
    "#     sum_fake = tf.reduce_sum(val, 1)\n",
    "#     plt.imshow(sum_fake[0])"
   ]
  },
  {
   "cell_type": "code",
   "execution_count": null,
   "id": "caa07797",
   "metadata": {},
   "outputs": [],
   "source": []
  },
  {
   "cell_type": "code",
   "execution_count": null,
   "id": "04f9a31b",
   "metadata": {
    "scrolled": true
   },
   "outputs": [
    {
     "name": "stdout",
     "output_type": "stream",
     "text": [
      "Epoch 1/100000\n",
      "std\n",
      "1/1 [==============================] - 4s 4s/step - loss: 117191.9453\n",
      "Epoch 2/100000\n",
      "1/1 [==============================] - 2s 2s/step - loss: 115807.8906\n",
      "Epoch 3/100000\n",
      "1/1 [==============================] - 2s 2s/step - loss: 114454.2734\n",
      "Epoch 4/100000\n",
      "1/1 [==============================] - 2s 2s/step - loss: 113131.6641\n",
      "Epoch 5/100000\n",
      "1/1 [==============================] - 2s 2s/step - loss: 111838.8359\n",
      "Epoch 6/100000\n",
      "1/1 [==============================] - 2s 2s/step - loss: 110571.9375\n",
      "Epoch 7/100000\n",
      "1/1 [==============================] - 2s 2s/step - loss: 109324.7891\n",
      "Epoch 8/100000\n",
      "1/1 [==============================] - 2s 2s/step - loss: 108091.2500\n",
      "Epoch 9/100000\n",
      "1/1 [==============================] - 2s 2s/step - loss: 106868.1016\n",
      "Epoch 10/100000\n",
      "1/1 [==============================] - 2s 2s/step - loss: 105655.8672\n",
      "Epoch 11/100000\n",
      "1/1 [==============================] - 2s 2s/step - loss: 104457.5703\n",
      "Epoch 12/100000\n",
      "1/1 [==============================] - 2s 2s/step - loss: 103277.0234\n",
      "Epoch 13/100000\n",
      "1/1 [==============================] - 2s 2s/step - loss: 102117.6172\n",
      "Epoch 14/100000\n",
      "1/1 [==============================] - 2s 2s/step - loss: 100981.4766\n",
      "Epoch 15/100000\n",
      "1/1 [==============================] - 2s 2s/step - loss: 99869.1719\n",
      "Epoch 16/100000\n",
      "1/1 [==============================] - 2s 2s/step - loss: 98779.9141\n",
      "Epoch 17/100000\n",
      "1/1 [==============================] - 2s 2s/step - loss: 97712.3750\n",
      "Epoch 18/100000\n",
      "1/1 [==============================] - 2s 2s/step - loss: 96665.6250\n",
      "Epoch 19/100000\n",
      "1/1 [==============================] - 2s 2s/step - loss: 95639.7344\n",
      "Epoch 20/100000\n",
      "1/1 [==============================] - 2s 2s/step - loss: 94635.8203\n",
      "Epoch 21/100000\n",
      "1/1 [==============================] - 2s 2s/step - loss: 93655.6953\n",
      "Epoch 22/100000\n",
      "1/1 [==============================] - 2s 2s/step - loss: 92701.2812\n",
      "Epoch 23/100000\n",
      "1/1 [==============================] - 2s 2s/step - loss: 91774.2031\n",
      "Epoch 24/100000\n",
      "1/1 [==============================] - 2s 2s/step - loss: 90875.4609\n",
      "Epoch 25/100000\n",
      "1/1 [==============================] - 2s 2s/step - loss: 90005.3203\n",
      "Epoch 26/100000\n",
      "1/1 [==============================] - 2s 2s/step - loss: 89163.5078\n",
      "Epoch 27/100000\n",
      "1/1 [==============================] - 2s 2s/step - loss: 88349.6875\n",
      "Epoch 28/100000\n",
      "1/1 [==============================] - 2s 2s/step - loss: 87563.7734\n",
      "Epoch 29/100000\n",
      "1/1 [==============================] - 2s 2s/step - loss: 86806.2266\n",
      "Epoch 30/100000\n",
      "1/1 [==============================] - 2s 2s/step - loss: 86077.8906\n",
      "Epoch 31/100000\n",
      "1/1 [==============================] - 2s 2s/step - loss: 85379.7266\n",
      "Epoch 32/100000\n",
      "1/1 [==============================] - 2s 2s/step - loss: 84712.4219\n",
      "Epoch 33/100000\n"
     ]
    }
   ],
   "source": [
    "## %%time\n",
    "es = tf.keras.callbacks.EarlyStopping(\n",
    "    monitor='loss', patience=20,# min_delta=1e-5\n",
    ")\n",
    "hist = model.fit(dataset, epochs=100000, callbacks=[es])"
   ]
  },
  {
   "cell_type": "code",
   "execution_count": null,
   "id": "e2b51b44",
   "metadata": {},
   "outputs": [],
   "source": [
    "plt.plot(hist.history['loss'])\n",
    "plt.yscale('log')"
   ]
  },
  {
   "cell_type": "code",
   "execution_count": null,
   "id": "9f87db6a",
   "metadata": {},
   "outputs": [],
   "source": [
    "import gpu.fake_comp as tfnegfc\n",
    "import tensorflow_addons as tfa\n",
    "from vip_hci.fits import open_fits\n",
    "import numpy as np"
   ]
  },
  {
   "cell_type": "code",
   "execution_count": null,
   "id": "4fa6316e",
   "metadata": {},
   "outputs": [],
   "source": [
    "cube_route = os.path.join(root, 'center_im.fits')\n",
    "cube       = open_fits(cube_route, header=False) \n",
    "if tf.rank(cube) < 4:\n",
    "    cube = cube[None,...]\n",
    "psf_route = os.path.join(root, 'median_unsat.fits')\n",
    "psf       = open_fits(psf_route, header=False)\n",
    "if psf.shape[-1] % 2 == 0:\n",
    "    psf_reduced = psf[...,:-1,:-1]  \n",
    "    psf = np.zeros_like(psf_reduced)\n",
    "    for i, p_pos in enumerate(psf_reduced):\n",
    "        for k, p_lambda in enumerate(p_pos):\n",
    "            psf[i][k] = tfa.image.translate(p_lambda, [0.5, 0.5])\n",
    "    \n",
    "ra_route = os.path.join(root, 'rotnth.fits')\n",
    "rot_ang  = open_fits(ra_route, header=False)\n",
    "rot_ang  = -rot_ang\n",
    "\n",
    "lambda_ch = 0 # channel to use\n",
    "psf_pos   = 0 # psf position\n",
    "\n",
    "results = tfnegfc.adjust_gaussian(psf[lambda_ch, psf_pos])\n",
    "fwhm_sphere  = tf.reduce_mean(results['fwhm'])\n",
    "centered_psf = tfnegfc.center_cube(psf[lambda_ch], fwhm_sphere)\n",
    "normalized_psf = tfnegfc.normalize_psf(centered_psf, fwhm=fwhm_sphere)\n",
    "patch = tfnegfc.create_patch(cube[0, 0], normalized_psf[0])"
   ]
  },
  {
   "cell_type": "code",
   "execution_count": null,
   "id": "28691ffe",
   "metadata": {},
   "outputs": [],
   "source": [
    "r_fguess = model.trainable_variables[0]\n",
    "t_fguess = model.trainable_variables[1]\n",
    "f_fguess = model.trainable_variables[2]\n",
    "\n",
    "rot_theta = t_fguess # rotate angles \n",
    "rot_theta = tf.experimental.numpy.deg2rad(rot_theta)\n",
    "\n",
    "x_fguess = tf.multiply(r_fguess, tf.cos(rot_theta)) + tf.cast(cube.shape[-1]/2, tf.float32)\n",
    "y_fguess = tf.multiply(r_fguess, tf.sin(rot_theta)) + tf.cast(cube.shape[-2]/2, tf.float32) "
   ]
  },
  {
   "cell_type": "code",
   "execution_count": null,
   "id": "1180de47",
   "metadata": {},
   "outputs": [],
   "source": [
    "from vip_hci.fm.negfc_fmerit import cube_inject_companions"
   ]
  },
  {
   "cell_type": "code",
   "execution_count": null,
   "id": "f0a72124",
   "metadata": {},
   "outputs": [],
   "source": [
    "r_fguess.numpy(), t_fguess.numpy(), f_fguess.numpy()"
   ]
  },
  {
   "cell_type": "code",
   "execution_count": null,
   "id": "d921a05e",
   "metadata": {
    "scrolled": true
   },
   "outputs": [],
   "source": [
    "%%time\n",
    "adi_image = tfnegfc.apply_adi(cube[0], \n",
    "                              rot_ang, \n",
    "                              out_size=cube[0].shape, \n",
    "                              ncomp=2, \n",
    "                              derotate='tf', \n",
    "                              return_cube=False)\n",
    "\n",
    "injected_cube = tfnegfc.inject_fake(x_fguess[0], \n",
    "                                    y_fguess[0], \n",
    "                                    f_fguess[0], \n",
    "                                    np.zeros_like(cube[0]), \n",
    "                                    patch, \n",
    "                                    rot_ang)\n",
    "\n",
    "adi_image_fake = tfnegfc.apply_adi(injected_cube, \n",
    "                                   rot_ang, \n",
    "                                   out_size=injected_cube.shape, \n",
    "                                   ncomp=2, \n",
    "                                   derotate='tf', \n",
    "                                   return_cube=False)"
   ]
  },
  {
   "cell_type": "code",
   "execution_count": null,
   "id": "ddfb787c",
   "metadata": {
    "scrolled": false
   },
   "outputs": [],
   "source": [
    "fig, axes = plt.subplots(3, 1, dpi=300, figsize=(6,6), sharex=True, sharey=True)\n",
    "axes[0].imshow(adi_image)\n",
    "axes[0].scatter(x_fguess[0], y_fguess[0], marker='x', s=1)\n",
    "axes[0].scatter(init_xy[:, 0][0], init_xy[:, 1][0], marker='x', s=1)\n",
    "\n",
    "axes[1].imshow(adi_image_fake)\n",
    "axes[2].imshow(adi_image+adi_image_fake)\n",
    "axes[2].set_xlim(300,500)\n",
    "axes[2].set_ylim(700,800)"
   ]
  },
  {
   "cell_type": "code",
   "execution_count": null,
   "id": "3cee7922",
   "metadata": {},
   "outputs": [],
   "source": []
  },
  {
   "cell_type": "code",
   "execution_count": null,
   "id": "c7ed46ae",
   "metadata": {},
   "outputs": [],
   "source": []
  },
  {
   "cell_type": "code",
   "execution_count": null,
   "id": "f921a5d1",
   "metadata": {},
   "outputs": [],
   "source": []
  },
  {
   "cell_type": "code",
   "execution_count": null,
   "id": "ae698bb2",
   "metadata": {},
   "outputs": [],
   "source": []
  }
 ],
 "metadata": {
  "kernelspec": {
   "display_name": "Python 3 (ipykernel)",
   "language": "python",
   "name": "python3"
  },
  "language_info": {
   "codemirror_mode": {
    "name": "ipython",
    "version": 3
   },
   "file_extension": ".py",
   "mimetype": "text/x-python",
   "name": "python",
   "nbconvert_exporter": "python",
   "pygments_lexer": "ipython3",
   "version": "3.8.16"
  }
 },
 "nbformat": 4,
 "nbformat_minor": 5
}
