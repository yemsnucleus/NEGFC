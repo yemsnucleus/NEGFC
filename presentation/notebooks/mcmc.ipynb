{
 "cells": [
  {
   "cell_type": "code",
   "execution_count": 2,
   "id": "087c0745",
   "metadata": {},
   "outputs": [
    {
     "name": "stdout",
     "output_type": "stream",
     "text": [
      "/home\n"
     ]
    }
   ],
   "source": [
    "cd /home"
   ]
  },
  {
   "cell_type": "code",
   "execution_count": 10,
   "id": "def3ad85",
   "metadata": {},
   "outputs": [],
   "source": [
    "import pickle\n",
    "import numpy as np"
   ]
  },
  {
   "cell_type": "markdown",
   "id": "5bccf54e",
   "metadata": {},
   "source": [
    "## MCMC (VIP)"
   ]
  },
  {
   "cell_type": "code",
   "execution_count": 16,
   "id": "5f8e214c",
   "metadata": {},
   "outputs": [],
   "source": [
    "from vip_hci.psfsub import median_sub, pca, pca_annular, pca_annulus\n",
    "from vip_hci.fm.negfc_mcmc import mcmc_negfc_sampling\n",
    "from vip_hci.fits import open_fits"
   ]
  },
  {
   "cell_type": "code",
   "execution_count": 18,
   "id": "b145bb13",
   "metadata": {},
   "outputs": [
    {
     "name": "stdout",
     "output_type": "stream",
     "text": [
      "Fits HDU-0 data successfully loaded. Data shape: (2, 168, 1024, 1024)\n",
      "Fits HDU-0 data successfully loaded. Data shape: (2, 2, 64, 64)\n",
      "Fits HDU-0 data successfully loaded. Data shape: (168,)\n"
     ]
    },
    {
     "data": {
      "text/plain": [
       "(2, 168, 1024, 1024)"
      ]
     },
     "execution_count": 18,
     "metadata": {},
     "output_type": "execute_result"
    }
   ],
   "source": [
    "cube_fc      = open_fits('./data/real/eta_tel_b/center_im.fits')\n",
    "psfn         = open_fits('./data/real/eta_tel_b/median_unsat.fits')\n",
    "derot_angles = open_fits('./data/real/eta_tel_b/rotnth.fits')\n",
    "cube.shape"
   ]
  },
  {
   "cell_type": "code",
   "execution_count": 19,
   "id": "c3fcbeea",
   "metadata": {},
   "outputs": [],
   "source": [
    "lab='c'\n",
    "fwhm = 2\n",
    "ann_width = 4*np.mean(fwhm)\n",
    "aperture_radius=2\n",
    "imlib_rot='opencv'\n",
    "interpolation = 'lanczos4'\n",
    "nwalkers, itermin, itermax = (100, 200, 500)"
   ]
  },
  {
   "cell_type": "code",
   "execution_count": 21,
   "id": "cfe2d2b2",
   "metadata": {},
   "outputs": [],
   "source": [
    "conv_test, ac_c, ac_count_thr, check_maxgap = ('ac', 50, 1, 50)\n",
    "\n",
    "algo_params = {'algo': pca_annulus,\n",
    "               'annulus_width': ann_width,\n",
    "               'svd_mode': 'lapack',\n",
    "               'imlib': imlib_rot,\n",
    "               'interpolation': interpolation}\n",
    "\n",
    "conv_params = {'conv_test': conv_test,\n",
    "               'ac_c': ac_c,\n",
    "               'ac_count_thr': ac_count_thr,\n",
    "               'check_maxgap': check_maxgap}\n",
    "\n",
    "mcmc_params = {'nwalkers': nwalkers,\n",
    "               'niteration_min': itermin,\n",
    "               'niteration_limit': itermax,\n",
    "               'bounds': None,\n",
    "               'sigma':'spe',\n",
    "               'nproc': 2}\n",
    "\n",
    "negfc_params = {'mu_sigma': True,\n",
    "                'aperture_radius': aperture_radius}\n",
    "\n",
    "initial_state = [344.35538038,  257.24436263, 5281.53524647]"
   ]
  },
  {
   "cell_type": "code",
   "execution_count": null,
   "id": "7127a101",
   "metadata": {},
   "outputs": [],
   "source": []
  },
  {
   "cell_type": "code",
   "execution_count": 22,
   "id": "e4cf83b5",
   "metadata": {},
   "outputs": [
    {
     "ename": "SyntaxError",
     "evalue": "invalid syntax (679160358.py, line 6)",
     "output_type": "error",
     "traceback": [
      "\u001b[0;36m  Cell \u001b[0;32mIn[22], line 6\u001b[0;36m\u001b[0m\n\u001b[0;31m    **algo_params,\u001b[0m\n\u001b[0m    ^\u001b[0m\n\u001b[0;31mSyntaxError\u001b[0m\u001b[0;31m:\u001b[0m invalid syntax\n"
     ]
    }
   ],
   "source": [
    "# MCMC\n",
    "chain = mcmc_negfc_sampling(cube_fc[0], \n",
    "                            derot_angles, \n",
    "                            psfn[0, \n",
    "                            initial_state=initial_state,\n",
    "                            algo=algo_params, \n",
    "                            **negfc_params,\n",
    "                            initial_state=initial_state, \n",
    "                            **mcmc_params, \n",
    "                            **conv_params, \n",
    "                            weights=weights,\n",
    "                            display=True, \n",
    "                            verbosity=2, \n",
    "                            save=False, \n",
    "                            output_dir='./')"
   ]
  },
  {
   "cell_type": "code",
   "execution_count": null,
   "id": "c7b2033c",
   "metadata": {},
   "outputs": [],
   "source": []
  },
  {
   "cell_type": "code",
   "execution_count": null,
   "id": "1a7c73f1",
   "metadata": {},
   "outputs": [],
   "source": [
    "gt = [r_c, theta_c%360]\n",
    "for i, ch in enumerate(final_chs_c):\n",
    "    gt.append(flux_c_scal[ch])\n",
    "\n",
    "mu, sigma = confidence(isamples_flat, cfd=68, gaussian_fit=True, verbose=False,\n",
    "                       gt=gt, save=False, title=True, labels=labels)"
   ]
  }
 ],
 "metadata": {
  "kernelspec": {
   "display_name": "Python 3 (ipykernel)",
   "language": "python",
   "name": "python3"
  },
  "language_info": {
   "codemirror_mode": {
    "name": "ipython",
    "version": 3
   },
   "file_extension": ".py",
   "mimetype": "text/x-python",
   "name": "python",
   "nbconvert_exporter": "python",
   "pygments_lexer": "ipython3",
   "version": "3.8.10"
  }
 },
 "nbformat": 4,
 "nbformat_minor": 5
}
