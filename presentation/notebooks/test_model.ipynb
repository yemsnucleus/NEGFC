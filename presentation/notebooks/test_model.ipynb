{
 "cells": [
  {
   "cell_type": "code",
   "execution_count": 1,
   "id": "6572d5c3",
   "metadata": {},
   "outputs": [
    {
     "name": "stdout",
     "output_type": "stream",
     "text": [
      "/home\n"
     ]
    }
   ],
   "source": [
    "cd /home"
   ]
  },
  {
   "cell_type": "code",
   "execution_count": 5,
   "id": "a37da41f",
   "metadata": {},
   "outputs": [
    {
     "name": "stdout",
     "output_type": "stream",
     "text": [
      "The autoreload extension is already loaded. To reload it, use:\n",
      "  %reload_ext autoreload\n"
     ]
    }
   ],
   "source": [
    "import tensorflow as tf \n",
    "import matplotlib.pyplot as plt\n",
    "\n",
    "from core.data import preprocess_and_save, get_companions, create_tf_dataset\n",
    "from tensorflow.keras.optimizers import Adam\n",
    "from core.losses import reduce_moments\n",
    "from core.model import create_model\n",
    "from core.engine import preprocess\n",
    "\n",
    "\n",
    "%load_ext autoreload\n",
    "%autoreload 2"
   ]
  },
  {
   "cell_type": "code",
   "execution_count": null,
   "id": "f1f75022",
   "metadata": {},
   "outputs": [],
   "source": []
  },
  {
   "cell_type": "code",
   "execution_count": 6,
   "id": "401034e2",
   "metadata": {},
   "outputs": [
    {
     "name": "stdout",
     "output_type": "stream",
     "text": [
      "CPU times: user 63.2 ms, sys: 71.4 ms, total: 135 ms\n",
      "Wall time: 135 ms\n"
     ]
    },
    {
     "data": {
      "text/plain": [
       "'HCI'"
      ]
     },
     "execution_count": 6,
     "metadata": {},
     "output_type": "execute_result"
    }
   ],
   "source": [
    "%%time\n",
    "window_size = 15\n",
    "data_path = './data/HCI/'\n",
    "table, cube, psf, rot_angles, backmoments = preprocess(data_path)\n",
    "dataset_name = data_path.split('/')[-2]\n",
    "dataset_name"
   ]
  },
  {
   "cell_type": "code",
   "execution_count": 7,
   "id": "c462bd5d",
   "metadata": {},
   "outputs": [
    {
     "name": "stdout",
     "output_type": "stream",
     "text": [
      "x            97.736452\n",
      "y            97.652952\n",
      "flux         15.454206\n",
      "fwhm_mean     3.057851\n",
      "snr           2.315319\n",
      "Name: 0, dtype: float64\n"
     ]
    }
   ],
   "source": [
    "row = table.iloc[0]\n",
    "print(row)"
   ]
  },
  {
   "cell_type": "code",
   "execution_count": 8,
   "id": "e2b6d8d0",
   "metadata": {},
   "outputs": [
    {
     "name": "stderr",
     "output_type": "stream",
     "text": [
      "2023-08-16 18:39:20.122549: I tensorflow/core/platform/cpu_feature_guard.cc:193] This TensorFlow binary is optimized with oneAPI Deep Neural Network Library (oneDNN) to use the following CPU instructions in performance-critical operations:  AVX2 AVX512F AVX512_VNNI FMA\n",
      "To enable them in other operations, rebuild TensorFlow with the appropriate compiler flags.\n",
      "2023-08-16 18:39:20.129047: I tensorflow/core/platform/cpu_feature_guard.cc:193] This TensorFlow binary is optimized with oneAPI Deep Neural Network Library (oneDNN) to use the following CPU instructions in performance-critical operations:  AVX2 AVX512F AVX512_VNNI FMA\n",
      "To enable them in other operations, rebuild TensorFlow with the appropriate compiler flags.\n",
      "2023-08-16 18:39:20.219659: I tensorflow/core/platform/cpu_feature_guard.cc:193] This TensorFlow binary is optimized with oneAPI Deep Neural Network Library (oneDNN) to use the following CPU instructions in performance-critical operations:  AVX2 AVX512F AVX512_VNNI FMA\n",
      "To enable them in other operations, rebuild TensorFlow with the appropriate compiler flags.\n",
      "2023-08-16 18:39:20.241860: I tensorflow/core/platform/cpu_feature_guard.cc:193] This TensorFlow binary is optimized with oneAPI Deep Neural Network Library (oneDNN) to use the following CPU instructions in performance-critical operations:  AVX2 AVX512F AVX512_VNNI FMA\n",
      "To enable them in other operations, rebuild TensorFlow with the appropriate compiler flags.\n",
      "2023-08-16 18:39:20.245798: I tensorflow/core/util/util.cc:169] oneDNN custom operations are on. You may see slightly different numerical results due to floating-point round-off errors from different computation orders. To turn them off, set the environment variable `TF_ENABLE_ONEDNN_OPTS=0`.\n",
      "2023-08-16 18:39:20.249528: I tensorflow/core/util/util.cc:169] oneDNN custom operations are on. You may see slightly different numerical results due to floating-point round-off errors from different computation orders. To turn them off, set the environment variable `TF_ENABLE_ONEDNN_OPTS=0`.\n",
      "2023-08-16 18:39:20.274701: E tensorflow/stream_executor/cuda/cuda_blas.cc:2981] Unable to register cuBLAS factory: Attempting to register factory for plugin cuBLAS when one has already been registered\n",
      "2023-08-16 18:39:20.277319: E tensorflow/stream_executor/cuda/cuda_blas.cc:2981] Unable to register cuBLAS factory: Attempting to register factory for plugin cuBLAS when one has already been registered\n",
      "2023-08-16 18:39:20.359102: I tensorflow/core/util/util.cc:169] oneDNN custom operations are on. You may see slightly different numerical results due to floating-point round-off errors from different computation orders. To turn them off, set the environment variable `TF_ENABLE_ONEDNN_OPTS=0`.\n",
      "2023-08-16 18:39:20.378730: I tensorflow/core/util/util.cc:169] oneDNN custom operations are on. You may see slightly different numerical results due to floating-point round-off errors from different computation orders. To turn them off, set the environment variable `TF_ENABLE_ONEDNN_OPTS=0`.\n",
      "2023-08-16 18:39:20.392981: E tensorflow/stream_executor/cuda/cuda_blas.cc:2981] Unable to register cuBLAS factory: Attempting to register factory for plugin cuBLAS when one has already been registered\n",
      "2023-08-16 18:39:20.411655: E tensorflow/stream_executor/cuda/cuda_blas.cc:2981] Unable to register cuBLAS factory: Attempting to register factory for plugin cuBLAS when one has already been registered\n"
     ]
    }
   ],
   "source": [
    "companion = get_companions(cube, \n",
    "                           x=row['x'], \n",
    "                           y=row['y'], \n",
    "                           window_size=window_size)\n",
    "psf       = get_companions(psf, \n",
    "                           x=psf.shape[-1]//2, \n",
    "                           y=psf.shape[-1]//2, \n",
    "                           window_size=window_size)"
   ]
  },
  {
   "cell_type": "code",
   "execution_count": 29,
   "id": "3f2dcade",
   "metadata": {},
   "outputs": [],
   "source": [
    "loader, input_shape = create_tf_dataset(psf, companion, batch_size=1, repeat=1)"
   ]
  },
  {
   "cell_type": "code",
   "execution_count": 30,
   "id": "0d02c338",
   "metadata": {},
   "outputs": [],
   "source": [
    "model = create_model(input_shape=input_shape, init_flux=row['flux'])"
   ]
  },
  {
   "cell_type": "code",
   "execution_count": 31,
   "id": "c09ef30b",
   "metadata": {},
   "outputs": [],
   "source": [
    "model.compile(backmoments=backmoments, \n",
    "              fwhm=row['fwhm_mean'], \n",
    "              optimizer=Adam(1e0))"
   ]
  },
  {
   "cell_type": "code",
   "execution_count": 32,
   "id": "dc223b72",
   "metadata": {},
   "outputs": [
    {
     "data": {
      "image/png": "[encoded data removed]",
      "text/plain": [
       "<Figure size 640x480 with 3 Axes>"
      ]
     },
     "metadata": {},
     "output_type": "display_data"
    }
   ],
   "source": [
    "fig, axes = plt.subplots(1, 3)\n",
    "for x, y in loader.take(1):\n",
    "    y_pred = model(x)\n",
    "    \n",
    "    \n",
    "    residuals = reduce_moments(y, y_pred, backmoments, \n",
    "                               fwhm=row['fwhm_mean'], debug=True)\n",
    "    \n",
    "    axes[1].imshow(y_pred[0,0,...,0])\n",
    "    axes[0].imshow(y[0,0,...,0])\n",
    "    \n",
    "    axes[2].imshow(residuals[0, 0,...,0])"
   ]
  },
  {
   "cell_type": "code",
   "execution_count": null,
   "id": "b9d6ce7d",
   "metadata": {},
   "outputs": [],
   "source": []
  },
  {
   "cell_type": "code",
   "execution_count": null,
   "id": "2c08b570",
   "metadata": {},
   "outputs": [],
   "source": []
  },
  {
   "cell_type": "code",
   "execution_count": null,
   "id": "503b4d81",
   "metadata": {},
   "outputs": [],
   "source": []
  }
 ],
 "metadata": {
  "kernelspec": {
   "display_name": "Python 3 (ipykernel)",
   "language": "python",
   "name": "python3"
  },
  "language_info": {
   "codemirror_mode": {
    "name": "ipython",
    "version": 3
   },
   "file_extension": ".py",
   "mimetype": "text/x-python",
   "name": "python",
   "nbconvert_exporter": "python",
   "pygments_lexer": "ipython3",
   "version": "3.8.10"
  }
 },
 "nbformat": 4,
 "nbformat_minor": 5
}
