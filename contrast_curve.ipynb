{
 "cells": [
  {
   "cell_type": "code",
   "execution_count": 65,
   "id": "8b492dad",
   "metadata": {},
   "outputs": [],
   "source": [
    "import matplotlib.pyplot as plt\n",
    "\n",
    "import pandas as pd\n",
    "import numpy as np\n",
    "import os\n",
    "\n",
    "from photutils.aperture import aperture_photometry, CircularAperture\n",
    "from vip_hci.preproc.derotation import cube_derotate\n",
    "from vip_hci.metrics import contrast_curve\n",
    "from vip_hci.var import fit_2dgaussian\n",
    "from vip_hci.psfsub import pca, pca_annular\n",
    "from astropy.io import fits\n",
    "\n",
    "from core.engine import get_angle_radius, preprocess"
   ]
  },
  {
   "cell_type": "code",
   "execution_count": 57,
   "id": "fa00600d",
   "metadata": {},
   "outputs": [],
   "source": [
    "ccurve = pd.read_csv('./logs/f_dhtau/contrast_curve.txt', names=['1', '2'])"
   ]
  },
  {
   "cell_type": "code",
   "execution_count": 58,
   "id": "c31ba824",
   "metadata": {},
   "outputs": [],
   "source": [
    "data_path = './data/real/f_dhtau/'\n",
    "table, cube, npsf, rot_angles, backmoments = preprocess(data_path)\n",
    "single_npsf = npsf[0]\n",
    "rot_angles = -rot_angles\n",
    "cube = cube_derotate(cube, rot_angles, nproc=4, imlib='opencv', interpolation='nearneig')\n",
    "\n",
    "exp_path = './logs/f_dhtau/'\n",
    "comp_parameters = pd.read_csv(os.path.join(exp_path, 'prediction.csv'))\n",
    "row = comp_parameters.iloc[0]"
   ]
  },
  {
   "cell_type": "markdown",
   "id": "ced8f197",
   "metadata": {},
   "source": [
    "We first need to estimate the flux of the star. We load the PSF"
   ]
  },
  {
   "cell_type": "code",
   "execution_count": 59,
   "id": "23c6197c",
   "metadata": {},
   "outputs": [],
   "source": [
    "psf_route  = os.path.join(data_path, 'median_unsat.fits')\n",
    "psf_list   = fits.getdata(psf_route, ext=0)\n",
    "single_psf = psf_list[0, 0]"
   ]
  },
  {
   "cell_type": "markdown",
   "id": "a1e48a5b",
   "metadata": {},
   "source": [
    "now we fit a 2d-gaussian model to the PSF  "
   ]
  },
  {
   "cell_type": "code",
   "execution_count": 60,
   "id": "1f8e95a8",
   "metadata": {},
   "outputs": [],
   "source": [
    "fit = fit_2dgaussian(single_psf, \n",
    "                     crop=True, \n",
    "                     cropsize=30, \n",
    "                     debug=False, \n",
    "                     full_output=True)  \n",
    "mean_fwhm_fit = np.mean([fit.fwhm_y, fit.fwhm_x])"
   ]
  },
  {
   "cell_type": "code",
   "execution_count": 62,
   "id": "470b823a",
   "metadata": {},
   "outputs": [],
   "source": [
    "aper = CircularAperture((single_npsf[0].shape[0]//2, single_npsf[0].shape[0]//2), \n",
    "                        r=mean_fwhm_fit/2.) \n",
    "starphot_estimated = aperture_photometry(single_npsf, aper, method='exact')\n",
    "starphot_estimated = starphot_estimated['aperture_sum'][0]"
   ]
  },
  {
   "cell_type": "code",
   "execution_count": null,
   "id": "09397788",
   "metadata": {},
   "outputs": [
    {
     "name": "stdout",
     "output_type": "stream",
     "text": [
      "――――――――――――――――――――――――――――――――――――――――――――――――――――――――――――――――――――――――――――――――\n",
      "Starting time: 2023-08-01 16:27:26\n",
      "――――――――――――――――――――――――――――――――――――――――――――――――――――――――――――――――――――――――――――――――\n",
      "ALGO : pca_annular, FWHM = 4.261339461993815, # BRANCHES = 1, SIGMA = 5, STARPHOT = 0.9999999207732931\n",
      "――――――――――――――――――――――――――――――――――――――――――――――――――――――――――――――――――――――――――――――――\n"
     ]
    }
   ],
   "source": [
    "cc_1 = contrast_curve(cube, \n",
    "                      rot_angles, \n",
    "                      psf_norm, \n",
    "                      fwhm=row['fwhm_mean'], \n",
    "                      pxscale=0.01225, \n",
    "                      starphot=starphot_estimated,\n",
    "                      sigma=5, \n",
    "                      nbranch=1, \n",
    "                      algo=pca_annular,\n",
    "                      radius_int=int(row['fwhm_mean']),\n",
    "                      ncomp=9, \n",
    "                      debug=True)"
   ]
  },
  {
   "cell_type": "code",
   "execution_count": null,
   "id": "373d5ec7",
   "metadata": {},
   "outputs": [],
   "source": []
  }
 ],
 "metadata": {
  "kernelspec": {
   "display_name": "Python 3 (ipykernel)",
   "language": "python",
   "name": "python3"
  },
  "language_info": {
   "codemirror_mode": {
    "name": "ipython",
    "version": 3
   },
   "file_extension": ".py",
   "mimetype": "text/x-python",
   "name": "python",
   "nbconvert_exporter": "python",
   "pygments_lexer": "ipython3",
   "version": "3.8.10"
  }
 },
 "nbformat": 4,
 "nbformat_minor": 5
}
