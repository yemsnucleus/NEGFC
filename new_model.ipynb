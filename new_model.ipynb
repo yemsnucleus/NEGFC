{
 "cells": [
  {
   "cell_type": "code",
   "execution_count": 3,
   "id": "f641036e",
   "metadata": {},
   "outputs": [
    {
     "name": "stdout",
     "output_type": "stream",
     "text": [
      "The autoreload extension is already loaded. To reload it, use:\n",
      "  %reload_ext autoreload\n"
     ]
    }
   ],
   "source": [
    "import tensorflow as tf\n",
    "import matplotlib.pyplot as plt \n",
    "\n",
    "from tensorflow.keras.optimizers import Adam\n",
    "\n",
    "from gpu.negfc_models import get_model_new\n",
    "from gpu.losses import reduce_std\n",
    "from gpu.data import load_data\n",
    "\n",
    "import os\n",
    "os.environ[\"CUDA_VISIBLE_DEVICES\"] = \"0\"\n",
    "\n",
    "%load_ext autoreload\n",
    "%autoreload 2"
   ]
  },
  {
   "cell_type": "code",
   "execution_count": 5,
   "id": "a0aa31bd",
   "metadata": {},
   "outputs": [
    {
     "name": "stdout",
     "output_type": "stream",
     "text": [
      "CPU times: user 17 s, sys: 5.01 s, total: 22 s\n",
      "Wall time: 10.5 s\n"
     ]
    }
   ],
   "source": [
    "%%time\n",
    "root='./data/fake/'\n",
    "dataset, cube_shp, init_xy, init_flux = load_data(root)"
   ]
  },
  {
   "cell_type": "code",
   "execution_count": 6,
   "id": "098de237",
   "metadata": {},
   "outputs": [],
   "source": [
    "model = get_model_new(init_xy, init_flux, cube_shp)\n",
    "model.compile(loss_fn=reduce_std, optimizer=Adam(5))"
   ]
  },
  {
   "cell_type": "code",
   "execution_count": 7,
   "id": "50e15b1c",
   "metadata": {
    "scrolled": true
   },
   "outputs": [
    {
     "name": "stdout",
     "output_type": "stream",
     "text": [
      "Epoch 1/100000\n",
      "1/1 [==============================] - 2s 2s/step - loss: 0.6363\n",
      "Epoch 2/100000\n",
      "1/1 [==============================] - 1s 891ms/step - loss: 0.6253\n",
      "Epoch 3/100000\n",
      "1/1 [==============================] - 1s 880ms/step - loss: 0.6142\n",
      "Epoch 4/100000\n",
      "1/1 [==============================] - 1s 890ms/step - loss: 0.6033\n",
      "Epoch 5/100000\n",
      "1/1 [==============================] - 1s 884ms/step - loss: 0.5924\n",
      "Epoch 6/100000\n",
      "1/1 [==============================] - 1s 880ms/step - loss: 0.5815\n",
      "Epoch 7/100000\n",
      "1/1 [==============================] - 1s 913ms/step - loss: 0.5707\n",
      "Epoch 8/100000\n",
      "1/1 [==============================] - 1s 883ms/step - loss: 0.5600\n",
      "Epoch 9/100000\n",
      "1/1 [==============================] - 1s 884ms/step - loss: 0.5494\n",
      "Epoch 10/100000\n",
      "1/1 [==============================] - 1s 886ms/step - loss: 0.5389\n",
      "Epoch 11/100000\n",
      "1/1 [==============================] - 1s 884ms/step - loss: 0.5284\n",
      "Epoch 12/100000\n",
      "1/1 [==============================] - 1s 909ms/step - loss: 0.5180\n",
      "Epoch 13/100000\n",
      "1/1 [==============================] - 1s 879ms/step - loss: 0.5078\n",
      "Epoch 14/100000\n",
      "1/1 [==============================] - 1s 880ms/step - loss: 0.4976\n",
      "Epoch 15/100000\n",
      "1/1 [==============================] - 1s 882ms/step - loss: 0.4876\n",
      "Epoch 16/100000\n",
      "1/1 [==============================] - 1s 895ms/step - loss: 0.4776\n",
      "Epoch 17/100000\n",
      "1/1 [==============================] - 1s 891ms/step - loss: 0.4678\n",
      "Epoch 18/100000\n",
      "1/1 [==============================] - 1s 881ms/step - loss: 0.4582\n",
      "Epoch 19/100000\n",
      "1/1 [==============================] - 1s 879ms/step - loss: 0.4487\n",
      "Epoch 20/100000\n",
      "1/1 [==============================] - 1s 877ms/step - loss: 0.4393\n",
      "Epoch 21/100000\n",
      "1/1 [==============================] - 1s 885ms/step - loss: 0.4302\n",
      "Epoch 22/100000\n",
      "1/1 [==============================] - 1s 887ms/step - loss: 0.4212\n",
      "Epoch 23/100000\n",
      "1/1 [==============================] - 1s 878ms/step - loss: 0.4124\n",
      "Epoch 24/100000\n",
      "1/1 [==============================] - 1s 877ms/step - loss: 0.4038\n",
      "Epoch 25/100000\n",
      "1/1 [==============================] - 1s 881ms/step - loss: 0.3954\n",
      "Epoch 26/100000\n",
      "1/1 [==============================] - 1s 880ms/step - loss: 0.3872\n",
      "Epoch 27/100000\n",
      "1/1 [==============================] - 1s 910ms/step - loss: 0.3793\n",
      "Epoch 28/100000\n",
      "1/1 [==============================] - 1s 882ms/step - loss: 0.3717\n",
      "Epoch 29/100000\n",
      "1/1 [==============================] - 1s 891ms/step - loss: 0.3643\n",
      "Epoch 30/100000\n",
      "1/1 [==============================] - 1s 890ms/step - loss: 0.3572\n",
      "Epoch 31/100000\n",
      "1/1 [==============================] - 1s 877ms/step - loss: 0.3503\n",
      "Epoch 32/100000\n",
      "1/1 [==============================] - 1s 883ms/step - loss: 0.3438\n",
      "Epoch 33/100000\n",
      "1/1 [==============================] - 1s 888ms/step - loss: 0.3376\n",
      "Epoch 34/100000\n",
      "1/1 [==============================] - 1s 883ms/step - loss: 0.3318\n",
      "Epoch 35/100000\n",
      "1/1 [==============================] - 1s 881ms/step - loss: 0.3262\n",
      "Epoch 36/100000\n",
      "1/1 [==============================] - 1s 885ms/step - loss: 0.3210\n",
      "Epoch 37/100000\n",
      "1/1 [==============================] - 1s 878ms/step - loss: 0.3162\n",
      "Epoch 38/100000\n",
      "1/1 [==============================] - 1s 888ms/step - loss: 0.3117\n",
      "Epoch 39/100000\n",
      "1/1 [==============================] - 1s 883ms/step - loss: 0.3076\n",
      "Epoch 40/100000\n",
      "1/1 [==============================] - 1s 888ms/step - loss: 0.3038\n",
      "Epoch 41/100000\n",
      "1/1 [==============================] - 1s 888ms/step - loss: 0.3004\n",
      "Epoch 42/100000\n",
      "1/1 [==============================] - 1s 880ms/step - loss: 0.2973\n",
      "Epoch 43/100000\n",
      "1/1 [==============================] - 1s 887ms/step - loss: 0.2945\n",
      "Epoch 44/100000\n",
      "1/1 [==============================] - 1s 885ms/step - loss: 0.2921\n",
      "Epoch 45/100000\n",
      "1/1 [==============================] - 1s 886ms/step - loss: 0.2900\n",
      "Epoch 46/100000\n",
      "1/1 [==============================] - 1s 877ms/step - loss: 0.2882\n",
      "Epoch 47/100000\n",
      "1/1 [==============================] - 1s 884ms/step - loss: 0.2866\n",
      "Epoch 48/100000\n",
      "1/1 [==============================] - 1s 882ms/step - loss: 0.2853\n",
      "Epoch 49/100000\n",
      "1/1 [==============================] - 1s 894ms/step - loss: 0.2842\n",
      "Epoch 50/100000\n",
      "1/1 [==============================] - 1s 885ms/step - loss: 0.2834\n",
      "Epoch 51/100000\n",
      "1/1 [==============================] - 1s 890ms/step - loss: 0.2827\n",
      "Epoch 52/100000\n",
      "1/1 [==============================] - 1s 891ms/step - loss: 0.2822\n",
      "Epoch 53/100000\n",
      "1/1 [==============================] - 1s 877ms/step - loss: 0.2818\n",
      "Epoch 54/100000\n",
      "1/1 [==============================] - 1s 886ms/step - loss: 0.2815\n",
      "Epoch 55/100000\n",
      "1/1 [==============================] - 1s 881ms/step - loss: 0.2814\n",
      "Epoch 56/100000\n",
      "1/1 [==============================] - 1s 888ms/step - loss: 0.2813\n",
      "Epoch 57/100000\n",
      "1/1 [==============================] - 1s 879ms/step - loss: 0.2813\n",
      "Epoch 58/100000\n",
      "1/1 [==============================] - 1s 877ms/step - loss: 0.2813\n",
      "Epoch 59/100000\n",
      "1/1 [==============================] - 1s 879ms/step - loss: 0.2814\n",
      "Epoch 60/100000\n",
      "1/1 [==============================] - 1s 876ms/step - loss: 0.2815\n",
      "Epoch 61/100000\n",
      "1/1 [==============================] - 1s 873ms/step - loss: 0.2816\n",
      "Epoch 62/100000\n",
      "1/1 [==============================] - 1s 884ms/step - loss: 0.2817\n",
      "Epoch 63/100000\n",
      "1/1 [==============================] - 1s 885ms/step - loss: 0.2818\n",
      "Epoch 64/100000\n",
      "1/1 [==============================] - 1s 885ms/step - loss: 0.2819\n",
      "Epoch 65/100000\n",
      "1/1 [==============================] - 1s 881ms/step - loss: 0.2820\n",
      "Epoch 66/100000\n",
      "1/1 [==============================] - 1s 880ms/step - loss: 0.2821\n",
      "Epoch 67/100000\n",
      "1/1 [==============================] - 1s 884ms/step - loss: 0.2821\n",
      "Epoch 68/100000\n",
      "1/1 [==============================] - 1s 885ms/step - loss: 0.2822\n",
      "Epoch 69/100000\n",
      "1/1 [==============================] - 1s 885ms/step - loss: 0.2822\n",
      "Epoch 70/100000\n",
      "1/1 [==============================] - 1s 876ms/step - loss: 0.2822\n",
      "Epoch 71/100000\n",
      "1/1 [==============================] - 1s 876ms/step - loss: 0.2822\n",
      "Epoch 72/100000\n",
      "1/1 [==============================] - 1s 884ms/step - loss: 0.2822\n",
      "Epoch 73/100000\n",
      "1/1 [==============================] - 1s 875ms/step - loss: 0.2821\n",
      "Epoch 74/100000\n",
      "1/1 [==============================] - 1s 880ms/step - loss: 0.2821\n",
      "Epoch 75/100000\n",
      "1/1 [==============================] - 1s 888ms/step - loss: 0.2820\n",
      "Epoch 76/100000\n",
      "1/1 [==============================] - 1s 885ms/step - loss: 0.2820\n",
      "Epoch 77/100000\n",
      "1/1 [==============================] - 1s 885ms/step - loss: 0.2819\n",
      "CPU times: user 11min, sys: 6min 43s, total: 17min 43s\n",
      "Wall time: 1min 10s\n"
     ]
    }
   ],
   "source": [
    "%%time\n",
    "es = tf.keras.callbacks.EarlyStopping(\n",
    "    monitor='loss', patience=20,\n",
    ")\n",
    "hist = model.fit(dataset, epochs=100000, callbacks=[es])"
   ]
  },
  {
   "cell_type": "code",
   "execution_count": 8,
   "id": "e2b51b44",
   "metadata": {},
   "outputs": [
    {
     "data": {
      "text/plain": [
       "[<matplotlib.lines.Line2D at 0x7f96a068ef70>]"
      ]
     },
     "execution_count": 8,
     "metadata": {},
     "output_type": "execute_result"
    },
    {
     "data": {
      "image/png": "[encoded data removed]",
      "text/plain": [
       "<Figure size 432x288 with 1 Axes>"
      ]
     },
     "metadata": {
      "needs_background": "light"
     },
     "output_type": "display_data"
    }
   ],
   "source": [
    "plt.plot(hist.history['loss'])"
   ]
  },
  {
   "cell_type": "code",
   "execution_count": 17,
   "id": "28691ffe",
   "metadata": {},
   "outputs": [
    {
     "data": {
      "text/plain": [
       "<tf.Variable 'MoveScale/flux:0' shape=(1, 1) dtype=float32, numpy=array([[-228.11752]], dtype=float32)>"
      ]
     },
     "execution_count": 17,
     "metadata": {},
     "output_type": "execute_result"
    }
   ],
   "source": [
    "x_fguess = model.trainable_variables[0]\n",
    "y_fguess = model.trainable_variables[1]\n",
    "f_fguess = model.trainable_variables[2]\n",
    "f_fguess"
   ]
  },
  {
   "cell_type": "code",
   "execution_count": 10,
   "id": "9f87db6a",
   "metadata": {},
   "outputs": [],
   "source": [
    "import gpu.fake_comp as tfnegfc\n",
    "\n",
    "from main import open_fits"
   ]
  },
  {
   "cell_type": "code",
   "execution_count": 13,
   "id": "4fa6316e",
   "metadata": {},
   "outputs": [
    {
     "name": "stdout",
     "output_type": "stream",
     "text": [
      "Fits HDU-0 data successfully loaded. Data shape: (80, 1023, 1023)\n",
      "Fits HDU-0 data successfully loaded. Data shape: (2, 2, 64, 64)\n",
      "Fits HDU-0 data successfully loaded. Data shape: (80,)\n"
     ]
    }
   ],
   "source": [
    "cube_route = os.path.join(root, 'center_im.fits')\n",
    "cube       = open_fits(cube_route, header=False) \n",
    "# cube = cube[None,...]\n",
    "psf_route = os.path.join(root, 'median_unsat.fits')\n",
    "psf       = open_fits(psf_route, header=False)\n",
    "\n",
    "ra_route = os.path.join(root, 'rotnth.fits')\n",
    "rot_ang  = open_fits(ra_route, header=False)\n",
    "rot_ang  = -rot_ang\n",
    "\n",
    "lambda_ch = 0 # channel to use\n",
    "psf_pos   = 0 # psf position"
   ]
  },
  {
   "cell_type": "code",
   "execution_count": 14,
   "id": "f0a72124",
   "metadata": {},
   "outputs": [],
   "source": [
    "results = tfnegfc.adjust_gaussian(psf[lambda_ch, psf_pos])\n",
    "fwhm_sphere  = tf.reduce_mean(results['fwhm'])\n",
    "centered_psf = tfnegfc.center_cube(psf[lambda_ch], fwhm_sphere)\n",
    "normalized_psf = tfnegfc.normalize_psf(centered_psf, fwhm=fwhm_sphere)"
   ]
  },
  {
   "cell_type": "code",
   "execution_count": 15,
   "id": "d921a05e",
   "metadata": {
    "scrolled": true
   },
   "outputs": [],
   "source": [
    "patch = tfnegfc.create_patch(cube[0, 0], normalized_psf[0])"
   ]
  },
  {
   "cell_type": "code",
   "execution_count": 36,
   "id": "9f191bda",
   "metadata": {},
   "outputs": [
    {
     "data": {
      "image/png": "[encoded data removed]",
      "text/plain": [
       "<Figure size 1200x800 with 3 Axes>"
      ]
     },
     "metadata": {
      "needs_background": "light"
     },
     "output_type": "display_data"
    }
   ],
   "source": [
    "import numpy as np\n",
    "for x_firstguess, y_firstguess, flux_firstguess in zip(x_fguess, y_fguess, f_fguess):\n",
    "\n",
    "    fake_zeros = tfnegfc.inject_fake(x=x_firstguess, \n",
    "                                     y=y_firstguess, \n",
    "                                     flux = flux_firstguess, \n",
    "                                     cube=tf.zeros_like(cube[0]), \n",
    "                                     patch=patch, \n",
    "                                     rot_angles=rot_ang)\n",
    "\n",
    "#     adi_image_fake_zeros = tfnegfc.apply_adi(fake_zeros, \n",
    "#                                        rot_ang, \n",
    "#                                        out_size=(cube[0].shape),\n",
    "#                                        ncomp=1, \n",
    "#                                        derotate='tf')\n",
    "\n",
    "#     adi_image, res_cube = tfnegfc.apply_adi(cube[0], \n",
    "#                                             rot_ang, \n",
    "#                                             out_size=cube[0].shape, \n",
    "#                                             ncomp=1, \n",
    "#                                             derotate='tf', return_cube=True)\n",
    "\n",
    "    fig, axes = plt.subplots(1, 3, dpi=200, sharex=True, sharey=True)\n",
    "    axes[0].imshow(cube[0, 0])\n",
    "    axes[1].imshow(fake_zeros[0])\n",
    "    axes[2].imshow(cube[0, 0]-fake_zeros[0])\n",
    "    axes[1].set_title('Flux: {:.2f}'.format(flux_firstguess[0]))\n",
    "    plt.show()\n"
   ]
  },
  {
   "cell_type": "code",
   "execution_count": null,
   "id": "7f1c9673",
   "metadata": {},
   "outputs": [],
   "source": []
  },
  {
   "cell_type": "code",
   "execution_count": null,
   "id": "6ad07f65",
   "metadata": {},
   "outputs": [],
   "source": []
  }
 ],
 "metadata": {
  "kernelspec": {
   "display_name": "Python 3 (ipykernel)",
   "language": "python",
   "name": "python3"
  },
  "language_info": {
   "codemirror_mode": {
    "name": "ipython",
    "version": 3
   },
   "file_extension": ".py",
   "mimetype": "text/x-python",
   "name": "python",
   "nbconvert_exporter": "python",
   "pygments_lexer": "ipython3",
   "version": "3.9.12"
  }
 },
 "nbformat": 4,
 "nbformat_minor": 5
}
