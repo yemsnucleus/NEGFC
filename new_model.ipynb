{
 "cells": [
  {
   "cell_type": "code",
   "execution_count": 1,
   "id": "f641036e",
   "metadata": {
    "scrolled": true
   },
   "outputs": [
    {
     "name": "stderr",
     "output_type": "stream",
     "text": [
      "2023-05-19 20:25:24.680507: I tensorflow/core/platform/cpu_feature_guard.cc:193] This TensorFlow binary is optimized with oneAPI Deep Neural Network Library (oneDNN) to use the following CPU instructions in performance-critical operations:  AVX2 FMA\n",
      "To enable them in other operations, rebuild TensorFlow with the appropriate compiler flags.\n",
      "2023-05-19 20:25:25.545857: W tensorflow/compiler/xla/stream_executor/platform/default/dso_loader.cc:64] Could not load dynamic library 'libnvinfer.so.7'; dlerror: libnvinfer.so.7: cannot open shared object file: No such file or directory; LD_LIBRARY_PATH: :/home/users/cdonoso/miniconda3/envs/tf2/lib/:/home/users/cdonoso/miniconda3/envs/tf2/lib/python3.9/site-packages/nvidia/cudnn/lib\n",
      "2023-05-19 20:25:25.545927: W tensorflow/compiler/xla/stream_executor/platform/default/dso_loader.cc:64] Could not load dynamic library 'libnvinfer_plugin.so.7'; dlerror: libnvinfer_plugin.so.7: cannot open shared object file: No such file or directory; LD_LIBRARY_PATH: :/home/users/cdonoso/miniconda3/envs/tf2/lib/:/home/users/cdonoso/miniconda3/envs/tf2/lib/python3.9/site-packages/nvidia/cudnn/lib\n",
      "2023-05-19 20:25:25.545933: W tensorflow/compiler/tf2tensorrt/utils/py_utils.cc:38] TF-TRT Warning: Cannot dlopen some TensorRT libraries. If you would like to use Nvidia GPU with TensorRT, please make sure the missing libraries mentioned above are installed properly.\n",
      "/home/users/cdonoso/miniconda3/envs/tf2/lib/python3.9/site-packages/tensorflow_io/python/ops/__init__.py:98: UserWarning: unable to load libtensorflow_io_plugins.so: unable to open file: libtensorflow_io_plugins.so, from paths: ['/home/users/cdonoso/miniconda3/envs/tf2/lib/python3.9/site-packages/tensorflow_io/python/ops/libtensorflow_io_plugins.so']\n",
      "caused by: ['/home/users/cdonoso/miniconda3/envs/tf2/lib/python3.9/site-packages/tensorflow_io/python/ops/libtensorflow_io_plugins.so: undefined symbol: _ZN3tsl6StatusC1EN10tensorflow5error4CodeESt17basic_string_viewIcSt11char_traitsIcEENS_18SourceLocationImplE']\n",
      "  warnings.warn(f\"unable to load libtensorflow_io_plugins.so: {e}\")\n",
      "/home/users/cdonoso/miniconda3/envs/tf2/lib/python3.9/site-packages/tensorflow_io/python/ops/__init__.py:104: UserWarning: file system plugins are not loaded: unable to open file: libtensorflow_io.so, from paths: ['/home/users/cdonoso/miniconda3/envs/tf2/lib/python3.9/site-packages/tensorflow_io/python/ops/libtensorflow_io.so']\n",
      "caused by: ['/home/users/cdonoso/miniconda3/envs/tf2/lib/python3.9/site-packages/tensorflow_io/python/ops/libtensorflow_io.so: undefined symbol: _ZTVN3tsl13GcsFileSystemE']\n",
      "  warnings.warn(f\"file system plugins are not loaded: {e}\")\n",
      "/home/users/cdonoso/miniconda3/envs/tf2/lib/python3.9/site-packages/tensorflow_addons/utils/tfa_eol_msg.py:23: UserWarning: \n",
      "\n",
      "TensorFlow Addons (TFA) has ended development and introduction of new features.\n",
      "TFA has entered a minimal maintenance and release mode until a planned end of life in May 2024.\n",
      "Please modify downstream libraries to take dependencies from other repositories in our TensorFlow community (e.g. Keras, Keras-CV, and Keras-NLP). \n",
      "\n",
      "For more information see: https://github.com/tensorflow/addons/issues/2807 \n",
      "\n",
      "  warnings.warn(\n"
     ]
    }
   ],
   "source": [
    "import tensorflow as tf\n",
    "import matplotlib.pyplot as plt \n",
    "\n",
    "from tensorflow.keras.optimizers import Adam\n",
    "\n",
    "from gpu.negfc_models import get_model_new\n",
    "from gpu.losses import reduce_std, wrapper\n",
    "from gpu.data import load_data\n",
    "import numpy as np\n",
    "\n",
    "import os\n",
    "os.environ[\"CUDA_VISIBLE_DEVICES\"] = \"0\"\n",
    "\n",
    "%load_ext autoreload\n",
    "%autoreload 2"
   ]
  },
  {
   "cell_type": "code",
   "execution_count": 2,
   "id": "a0aa31bd",
   "metadata": {},
   "outputs": [
    {
     "name": "stderr",
     "output_type": "stream",
     "text": [
      "2023-05-19 20:25:33.778178: W tensorflow/compiler/xla/stream_executor/gpu/asm_compiler.cc:115] *** WARNING *** You are using ptxas 9.1.108, which is older than 11.1. ptxas before 11.1 is known to miscompile XLA code, leading to incorrect results or invalid-address errors.\n",
      "\n",
      "You may not need to update to CUDA 11.1; cherry-picking the ptxas binary is often sufficient.\n",
      "2023-05-19 20:25:33.780794: W tensorflow/compiler/xla/stream_executor/gpu/asm_compiler.cc:234] Falling back to the CUDA driver for PTX compilation; ptxas does not support CC 8.6\n",
      "2023-05-19 20:25:33.780845: W tensorflow/compiler/xla/stream_executor/gpu/asm_compiler.cc:237] Used ptxas at ptxas\n"
     ]
    },
    {
     "name": "stdout",
     "output_type": "stream",
     "text": [
      "WARNING:tensorflow:From /home/users/cdonoso/miniconda3/envs/tf2/lib/python3.9/site-packages/tensorflow/python/autograph/pyct/static_analysis/liveness.py:83: Analyzer.lamba_check (from tensorflow.python.autograph.pyct.static_analysis.liveness) is deprecated and will be removed after 2023-09-23.\n",
      "Instructions for updating:\n",
      "Lambda fuctions will be no more assumed to be used in the statement where they are used, or at least in the same block. https://github.com/tensorflow/tensorflow/issues/56089\n",
      "CPU times: user 9.53 s, sys: 2.65 s, total: 12.2 s\n",
      "Wall time: 12.7 s\n"
     ]
    }
   ],
   "source": [
    "%%time\n",
    "root='./data/fake/'\n",
    "dataset, cube_shp, init_xy, init_flux = load_data(root, \n",
    "                                                  bkg_sigma=5, \n",
    "                                                  ncomp=1, \n",
    "                                                  num_peaks=10,\n",
    "                                                  normalize=False,\n",
    "                                                  psf_pos=0,\n",
    "                                                  )"
   ]
  },
  {
   "cell_type": "code",
   "execution_count": null,
   "id": "ac3f63d2",
   "metadata": {},
   "outputs": [],
   "source": []
  },
  {
   "cell_type": "code",
   "execution_count": 3,
   "id": "62b96506",
   "metadata": {},
   "outputs": [],
   "source": [
    "# import tensorflow as tf\n",
    "\n",
    "# def create_circle_mask(coordinates, w, h, r):\n",
    "#     # Create a grid of coordinates\n",
    "#     grid_x, grid_y = tf.meshgrid(tf.range(w), tf.range(h))\n",
    "\n",
    "#     # Expand dimensions to match the input coordinates\n",
    "#     expanded_grid_x = tf.expand_dims(grid_x, axis=-1)\n",
    "#     expanded_grid_y = tf.expand_dims(grid_y, axis=-1)\n",
    "\n",
    "#     # Calculate the squared distance from each point to the coordinates\n",
    "#     dist_sq = tf.square(expanded_grid_x - coordinates[:, 0]) + tf.square(expanded_grid_y - coordinates[:, 1])\n",
    "\n",
    "#     # Create the mask by comparing the squared distance to the radius squared\n",
    "#     mask = tf.cast(dist_sq <= r**2, dtype=tf.float32)\n",
    "\n",
    "#     return mask\n",
    "\n",
    "# # Example usage:\n",
    "# coordinates = tf.constant([[50, 50], [70, 80], [30, 40]])\n",
    "# w = 100\n",
    "# h = 100\n",
    "# r = 30\n",
    "\n",
    "# circle_mask = create_circle_mask(coordinates, w, h, r)\n",
    "# print(circle_mask.shape)\n",
    "# plt.imshow(circle_mask)\n"
   ]
  },
  {
   "cell_type": "code",
   "execution_count": 4,
   "id": "f3b50bcd",
   "metadata": {
    "scrolled": false
   },
   "outputs": [],
   "source": [
    "# model = get_model_new(init_xy, init_flux, cube_shp)\n",
    "# loss_fn = wrapper(reduce_std, nfwhm=2, debug=True, minimize='std')\n",
    "# for x, y in dataset:\n",
    "    \n",
    "#     pred = model(x)\n",
    "    \n",
    "#     red = loss_fn(y, pred)\n",
    "    \n",
    "    \n",
    "#     fig, axes = plt.subplots(3,3,dpi=300, sharex=True, sharey=True,\n",
    "#                             gridspec_kw={'hspace': 0., 'wspace': -0.4})\n",
    "#     axes = axes.flatten()\n",
    "#     for i, N in enumerate(range(0, 9)):        \n",
    "#         axes[i].imshow(red[0,N])\n",
    "# #         axes[i].imshow(y['cube'][0,N], alpha=.5)"
   ]
  },
  {
   "cell_type": "code",
   "execution_count": 25,
   "id": "32328800",
   "metadata": {},
   "outputs": [],
   "source": [
    "angle = 120. \n",
    "r = 250."
   ]
  },
  {
   "cell_type": "code",
   "execution_count": 32,
   "id": "098de237",
   "metadata": {},
   "outputs": [],
   "source": [
    "model = get_model_new(init_xy, init_flux, cube_shp)\n",
    "loss_fn = wrapper(reduce_std, nfwhm=5, debug=False, minimize='sum')\n",
    "model.compile(loss_fn=loss_fn, \n",
    "              optimizer=tf.keras.optimizers.RMSprop(1))"
   ]
  },
  {
   "cell_type": "code",
   "execution_count": 34,
   "id": "04f9a31b",
   "metadata": {
    "scrolled": true
   },
   "outputs": [
    {
     "name": "stdout",
     "output_type": "stream",
     "text": [
      "Epoch 1/100000\n",
      "[385.645233 727.778564]\n",
      "158.231842\n",
      "1/1 [==============================] - 0s 64ms/step - loss: 120.7658\n",
      "Epoch 2/100000\n",
      "[385.645233 727.778564]\n",
      "-158.231842\n",
      "1/1 [==============================] - 0s 65ms/step - loss: 37.4661\n",
      "Epoch 3/100000\n",
      "[385.645233 727.778564]\n",
      "158.231842\n",
      "1/1 [==============================] - 0s 64ms/step - loss: 120.7658\n",
      "Epoch 4/100000\n",
      "[385.645233 727.778564]\n",
      "-158.231842\n",
      "1/1 [==============================] - 0s 59ms/step - loss: 37.4661\n",
      "Epoch 5/100000\n",
      "[385.645233 727.778564]\n",
      "158.231842\n",
      "1/1 [==============================] - 0s 65ms/step - loss: 120.7658\n",
      "Epoch 6/100000\n",
      "[385.645233 727.778564]\n",
      "-158.231842\n",
      "1/1 [==============================] - 0s 65ms/step - loss: 37.4661\n",
      "Epoch 7/100000\n",
      "[385.645233 727.778564]\n",
      "158.231842\n",
      "1/1 [==============================] - 0s 65ms/step - loss: 120.7658\n",
      "Epoch 8/100000\n",
      "[385.645233 727.778564]\n",
      "-158.231842\n",
      "1/1 [==============================] - 0s 58ms/step - loss: 37.4661\n",
      "Epoch 9/100000\n",
      "[385.645233 727.778564]\n",
      "158.231842\n",
      "1/1 [==============================] - 0s 65ms/step - loss: 120.7658\n",
      "Epoch 10/100000\n",
      "[385.645233 727.778564]\n",
      "-158.231842\n",
      "1/1 [==============================] - 0s 52ms/step - loss: 37.4661\n",
      "Epoch 11/100000\n",
      "[385.645233 727.778564]\n",
      "158.231842\n",
      "1/1 [==============================] - 0s 56ms/step - loss: 120.7658\n",
      "Epoch 12/100000\n",
      "[385.645233 727.778564]\n",
      "-158.231842\n",
      "1/1 [==============================] - 0s 65ms/step - loss: 37.4661\n",
      "Epoch 13/100000\n",
      "[385.645233 727.778564]\n",
      "158.231842\n",
      "1/1 [==============================] - 0s 59ms/step - loss: 120.7658\n",
      "Epoch 14/100000\n",
      "[385.645233 727.778564]\n",
      "-158.231842\n",
      "1/1 [==============================] - 0s 66ms/step - loss: 37.4661\n",
      "Epoch 15/100000\n",
      "[385.645233 727.778564]\n",
      "158.231842\n",
      "1/1 [==============================] - 0s 65ms/step - loss: 120.7658\n",
      "Epoch 16/100000\n",
      "[385.645233 727.778564]\n",
      "-158.231842\n",
      "1/1 [==============================] - 0s 63ms/step - loss: 37.4661\n",
      "Epoch 17/100000\n",
      "[385.645233 727.778564]\n",
      "158.231842\n",
      "1/1 [==============================] - 0s 64ms/step - loss: 120.7658\n",
      "Epoch 18/100000\n",
      "[385.645233 727.778564]\n",
      "-158.231842\n",
      "1/1 [==============================] - 0s 61ms/step - loss: 37.4661\n",
      "Epoch 19/100000\n",
      "[385.645233 727.778564]\n",
      "158.231842\n",
      "1/1 [==============================] - 0s 64ms/step - loss: 120.7658\n",
      "Epoch 20/100000\n",
      "[385.645233 727.778564]\n",
      "-158.231842\n",
      "1/1 [==============================] - 0s 62ms/step - loss: 37.4661\n",
      "Epoch 21/100000\n",
      "[385.645233 727.778564]\n",
      "158.231842\n",
      "1/1 [==============================] - 0s 65ms/step - loss: 120.7658\n",
      "Epoch 22/100000\n",
      "[385.645233 727.778564]\n",
      "-158.231842\n",
      "1/1 [==============================] - 0s 65ms/step - loss: 37.4661\n",
      "Epoch 23/100000\n",
      "[385.645233 727.778564]\n",
      "158.231842\n",
      "1/1 [==============================] - 0s 65ms/step - loss: 120.7658\n",
      "Epoch 24/100000\n",
      "[385.645233 727.778564]\n",
      "-158.231842\n",
      "1/1 [==============================] - 0s 64ms/step - loss: 37.4661\n",
      "Epoch 25/100000\n",
      "[385.645233 727.778564]\n",
      "158.231842\n",
      "1/1 [==============================] - 0s 62ms/step - loss: 120.7658\n",
      "Epoch 26/100000\n",
      "[385.645233 727.778564]\n",
      "-158.231842\n",
      "1/1 [==============================] - 0s 65ms/step - loss: 37.4661\n",
      "Epoch 27/100000\n",
      "[385.645233 727.778564]\n",
      "158.231842\n",
      "1/1 [==============================] - 0s 65ms/step - loss: 120.7658\n",
      "Epoch 28/100000\n",
      "[385.645233 727.778564]\n",
      "-158.231842\n",
      "1/1 [==============================] - 0s 66ms/step - loss: 37.4661\n",
      "Epoch 29/100000\n",
      "[385.645233 727.778564]\n",
      "158.231842\n",
      "1/1 [==============================] - 0s 62ms/step - loss: 120.7658\n",
      "Epoch 30/100000\n",
      "[385.645233 727.778564]\n",
      "-158.231842\n",
      "1/1 [==============================] - 0s 64ms/step - loss: 37.4661\n",
      "Epoch 31/100000\n",
      "[385.645233 727.778564]\n",
      "158.231842\n",
      "1/1 [==============================] - 0s 59ms/step - loss: 120.7658\n",
      "Epoch 32/100000\n",
      "[385.645233 727.778564]\n",
      "-158.231842\n",
      "1/1 [==============================] - 0s 65ms/step - loss: 37.4661\n",
      "Epoch 33/100000\n",
      "[385.645233 727.778564]\n",
      "158.231842\n",
      "1/1 [==============================] - 0s 65ms/step - loss: 120.7658\n",
      "Epoch 34/100000\n",
      "[385.645233 727.778564]\n",
      "-158.231842\n",
      "1/1 [==============================] - 0s 57ms/step - loss: 37.4661\n",
      "Epoch 35/100000\n",
      "[385.645233 727.778564]\n",
      "158.231842\n",
      "1/1 [==============================] - 0s 65ms/step - loss: 120.7658\n",
      "Epoch 36/100000\n",
      "[385.645233 727.778564]\n",
      "-158.231842\n",
      "1/1 [==============================] - 0s 59ms/step - loss: 37.4661\n",
      "Epoch 37/100000\n",
      "[385.645233 727.778564]\n",
      "158.231842\n",
      "1/1 [==============================] - 0s 64ms/step - loss: 120.7658\n",
      "Epoch 38/100000\n",
      "[385.645233 727.778564]\n",
      "-158.231842\n",
      "1/1 [==============================] - 0s 59ms/step - loss: 37.4661\n",
      "Epoch 39/100000\n",
      "[385.645233 727.778564]\n",
      "158.231842\n",
      "1/1 [==============================] - 0s 63ms/step - loss: 120.7658\n",
      "Epoch 40/100000\n",
      "[385.645233 727.778564]\n",
      "-158.231842\n",
      "1/1 [==============================] - 0s 57ms/step - loss: 37.4661\n",
      "Epoch 41/100000\n",
      "[385.645233 727.778564]\n",
      "158.231842\n",
      "1/1 [==============================] - 0s 64ms/step - loss: 120.7658\n",
      "Epoch 42/100000\n",
      "[385.645233 727.778564]\n",
      "-158.231842\n",
      "1/1 [==============================] - 0s 65ms/step - loss: 37.4661\n",
      "Epoch 43/100000\n",
      "[385.645233 727.778564]\n",
      "158.231842\n",
      "1/1 [==============================] - 0s 60ms/step - loss: 120.7658\n",
      "Epoch 44/100000\n",
      "[385.645233 727.778564]\n",
      "-158.231842\n",
      "1/1 [==============================] - 0s 65ms/step - loss: 37.4661\n",
      "Epoch 45/100000\n",
      "[385.645233 727.778564]\n",
      "158.231842\n",
      "1/1 [==============================] - 0s 57ms/step - loss: 120.7658\n",
      "Epoch 46/100000\n",
      "[385.645233 727.778564]\n",
      "-158.231842\n",
      "1/1 [==============================] - 0s 65ms/step - loss: 37.4661\n",
      "Epoch 47/100000\n",
      "[385.645233 727.778564]\n",
      "158.231842\n",
      "1/1 [==============================] - 0s 66ms/step - loss: 120.7658\n",
      "Epoch 48/100000\n",
      "[385.645233 727.778564]\n",
      "-158.231842\n",
      "1/1 [==============================] - 0s 66ms/step - loss: 37.4661\n",
      "Epoch 49/100000\n",
      "[385.645233 727.778564]\n",
      "158.231842\n",
      "1/1 [==============================] - 0s 65ms/step - loss: 120.7658\n",
      "Epoch 50/100000\n",
      "[385.645233 727.778564]\n",
      "-158.231842\n",
      "1/1 [==============================] - 0s 60ms/step - loss: 37.4661\n",
      "Epoch 51/100000\n",
      "[385.645233 727.778564]\n",
      "158.231842\n",
      "1/1 [==============================] - 0s 58ms/step - loss: 120.7658\n",
      "Epoch 52/100000\n",
      "[385.645233 727.778564]\n",
      "-158.231842\n",
      "1/1 [==============================] - 0s 65ms/step - loss: 37.4661\n"
     ]
    }
   ],
   "source": [
    "## %%time\n",
    "es = tf.keras.callbacks.EarlyStopping(\n",
    "    monitor='loss', patience=50,# min_delta=1e-5\n",
    ")\n",
    "hist = model.fit(dataset, epochs=100000, callbacks=[es])"
   ]
  },
  {
   "cell_type": "code",
   "execution_count": 37,
   "id": "e2b51b44",
   "metadata": {},
   "outputs": [
    {
     "data": {
      "image/png": "[encoded data removed]",
      "text/plain": [
       "<Figure size 432x288 with 1 Axes>"
      ]
     },
     "metadata": {
      "needs_background": "light"
     },
     "output_type": "display_data"
    }
   ],
   "source": [
    "plt.plot(hist.history['loss'])\n",
    "plt.yscale('log')"
   ]
  },
  {
   "cell_type": "code",
   "execution_count": 36,
   "id": "28691ffe",
   "metadata": {},
   "outputs": [
    {
     "name": "stdout",
     "output_type": "stream",
     "text": [
      "[130.46871932] [[385.64523 727.77856]]\n"
     ]
    },
    {
     "data": {
      "text/plain": [
       "(<tf.Tensor: shape=(), dtype=float32, numpy=385.64523>,\n",
       " <tf.Tensor: shape=(), dtype=float32, numpy=727.77856>,\n",
       " <tf.Tensor: shape=(), dtype=float32, numpy=-270.673>)"
      ]
     },
     "execution_count": 36,
     "metadata": {},
     "output_type": "execute_result"
    }
   ],
   "source": [
    "x_fguess = model.trainable_variables[0]\n",
    "y_fguess = model.trainable_variables[1]\n",
    "f_fguess = model.trainable_variables[2]\n",
    "print(init_flux, init_xy)\n",
    "x_fguess[0][0], y_fguess[0][0], f_fguess[0][0]"
   ]
  },
  {
   "cell_type": "code",
   "execution_count": 30,
   "id": "9f87db6a",
   "metadata": {},
   "outputs": [],
   "source": [
    "import gpu.fake_comp as tfnegfc\n",
    "from main import open_fits\n",
    "import numpy as np"
   ]
  },
  {
   "cell_type": "code",
   "execution_count": 31,
   "id": "4fa6316e",
   "metadata": {},
   "outputs": [
    {
     "name": "stdout",
     "output_type": "stream",
     "text": [
      "Fits HDU-0 data successfully loaded. Data shape: (80, 1023, 1023)\n",
      "Fits HDU-0 data successfully loaded. Data shape: (2, 2, 64, 64)\n",
      "Fits HDU-0 data successfully loaded. Data shape: (80,)\n"
     ]
    }
   ],
   "source": [
    "cube_route = os.path.join(root, 'center_im.fits')\n",
    "cube       = open_fits(cube_route, header=False) \n",
    "if tf.rank(cube) < 4:\n",
    "    cube = cube[None,...]\n",
    "psf_route = os.path.join(root, 'median_unsat.fits')\n",
    "psf       = open_fits(psf_route, header=False)\n",
    "if psf.shape[-1] % 2 == 0:\n",
    "    psf = psf[..., :-1, :-1]\n",
    "ra_route = os.path.join(root, 'rotnth.fits')\n",
    "rot_ang  = open_fits(ra_route, header=False)\n",
    "rot_ang  = -rot_ang\n",
    "\n",
    "lambda_ch = 0 # channel to use\n",
    "psf_pos   = 0 # psf position\n",
    "\n",
    "results = tfnegfc.adjust_gaussian(psf[lambda_ch, psf_pos])\n",
    "fwhm_sphere  = tf.reduce_mean(results['fwhm'])\n",
    "centered_psf = tfnegfc.center_cube(psf[lambda_ch], fwhm_sphere)\n",
    "normalized_psf = tfnegfc.normalize_psf(centered_psf, fwhm=fwhm_sphere)\n",
    "patch = tfnegfc.create_patch(cube[0, 0], normalized_psf[0])"
   ]
  },
  {
   "cell_type": "code",
   "execution_count": null,
   "id": "1180de47",
   "metadata": {},
   "outputs": [],
   "source": []
  },
  {
   "cell_type": "code",
   "execution_count": 14,
   "id": "f0a72124",
   "metadata": {},
   "outputs": [],
   "source": [
    "injected_cube = tfnegfc.inject_fake(x_fguess[0], \n",
    "                                    y_fguess[0], \n",
    "                                    np.median(f_fguess[0]), \n",
    "                                    np.zeros_like(cube[0]), \n",
    "                                    patch, \n",
    "                                    rot_ang)"
   ]
  },
  {
   "cell_type": "code",
   "execution_count": 15,
   "id": "eb8883e8",
   "metadata": {},
   "outputs": [
    {
     "data": {
      "text/plain": [
       "<tf.Variable 'MoveScale/flux:0' shape=(1, 1) dtype=float32, numpy=array([[-192.49214]], dtype=float32)>"
      ]
     },
     "execution_count": 15,
     "metadata": {},
     "output_type": "execute_result"
    },
    {
     "data": {
      "image/png": "[encoded data removed]",
      "text/plain": [
       "<Figure size 432x288 with 1 Axes>"
      ]
     },
     "metadata": {
      "needs_background": "light"
     },
     "output_type": "display_data"
    }
   ],
   "source": [
    "plt.plot(f_fguess[0], '.')\n",
    "f_fguess"
   ]
  },
  {
   "cell_type": "code",
   "execution_count": 16,
   "id": "d7cb769f",
   "metadata": {},
   "outputs": [
    {
     "data": {
      "text/plain": [
       "-192.49214"
      ]
     },
     "execution_count": 16,
     "metadata": {},
     "output_type": "execute_result"
    }
   ],
   "source": [
    "np.median(f_fguess[0])"
   ]
  },
  {
   "cell_type": "code",
   "execution_count": 17,
   "id": "d921a05e",
   "metadata": {
    "scrolled": true
   },
   "outputs": [
    {
     "name": "stdout",
     "output_type": "stream",
     "text": [
      "CPU times: user 1.16 s, sys: 1.39 s, total: 2.55 s\n",
      "Wall time: 2.56 s\n"
     ]
    }
   ],
   "source": [
    "%%time\n",
    "adi_image = tfnegfc.apply_adi(cube[0], \n",
    "                              rot_ang, \n",
    "                              out_size=cube[0].shape, \n",
    "                              ncomp=2, \n",
    "                              derotate='tf', \n",
    "                              return_cube=False)\n",
    "\n",
    "adi_image_fake = tfnegfc.apply_adi(injected_cube, \n",
    "                                   rot_ang, \n",
    "                                   out_size=injected_cube.shape, \n",
    "                                   ncomp=2, \n",
    "                                   derotate='tf', return_cube=False)"
   ]
  },
  {
   "cell_type": "code",
   "execution_count": 18,
   "id": "ddfb787c",
   "metadata": {
    "scrolled": false
   },
   "outputs": [
    {
     "data": {
      "text/plain": [
       "(700.0, 800.0)"
      ]
     },
     "execution_count": 18,
     "metadata": {},
     "output_type": "execute_result"
    },
    {
     "data": {
      "image/png": "[encoded data removed]",
      "text/plain": [
       "<Figure size 1800x1800 with 3 Axes>"
      ]
     },
     "metadata": {
      "needs_background": "light"
     },
     "output_type": "display_data"
    }
   ],
   "source": [
    "fig, axes = plt.subplots(3, 1, dpi=300, figsize=(6,6), sharex=True, sharey=True)\n",
    "axes[0].imshow(adi_image)\n",
    "axes[1].imshow(adi_image_fake)\n",
    "axes[2].imshow(adi_image+adi_image_fake)\n",
    "axes[2].set_xlim(300,500)\n",
    "axes[2].set_ylim(700,800)"
   ]
  },
  {
   "cell_type": "code",
   "execution_count": null,
   "id": "3cee7922",
   "metadata": {},
   "outputs": [],
   "source": []
  },
  {
   "cell_type": "code",
   "execution_count": null,
   "id": "c7ed46ae",
   "metadata": {},
   "outputs": [],
   "source": []
  },
  {
   "cell_type": "code",
   "execution_count": null,
   "id": "f921a5d1",
   "metadata": {},
   "outputs": [],
   "source": []
  },
  {
   "cell_type": "code",
   "execution_count": null,
   "id": "ae698bb2",
   "metadata": {},
   "outputs": [],
   "source": []
  }
 ],
 "metadata": {
  "kernelspec": {
   "display_name": "Python 3 (ipykernel)",
   "language": "python",
   "name": "python3"
  },
  "language_info": {
   "codemirror_mode": {
    "name": "ipython",
    "version": 3
   },
   "file_extension": ".py",
   "mimetype": "text/x-python",
   "name": "python",
   "nbconvert_exporter": "python",
   "pygments_lexer": "ipython3",
   "version": "3.9.12"
  }
 },
 "nbformat": 4,
 "nbformat_minor": 5
}
