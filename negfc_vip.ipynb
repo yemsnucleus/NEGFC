{
 "cells": [
  {
   "cell_type": "markdown",
   "id": "3bf130ba",
   "metadata": {},
   "source": [
    "# PIPELINE"
   ]
  },
  {
   "cell_type": "code",
   "execution_count": 1,
   "id": "871c0ae4",
   "metadata": {},
   "outputs": [],
   "source": [
    "import matplotlib.pyplot as plt \n",
    "import seaborn as sns\n",
    "import pandas as pd\n",
    "import numpy as np \n",
    "import os\n",
    "\n",
    "from vip_hci.fits import open_fits\n",
    "from main import (shift_and_crop_cube, \n",
    "                  fit_and_crop, \n",
    "                  frame_center, \n",
    "                  get_square, \n",
    "                  fit_gaussian_2d, \n",
    "                  recenter_cube, \n",
    "                  normalize_psf)\n",
    "from pca import reduce_pca\n",
    "from detection import get_intersting_coords\n",
    "from loss import inject_fcs_cube_mod\n",
    "\n",
    "os.environ[\"CUDA_VISIBLE_DEVICES\"] = \"1\"\n",
    "\n",
    "%load_ext autoreload\n",
    "%autoreload 2"
   ]
  },
  {
   "cell_type": "markdown",
   "id": "32b6722d",
   "metadata": {},
   "source": [
    "## LOADING DATA"
   ]
  },
  {
   "cell_type": "code",
   "execution_count": 2,
   "id": "f3a94231",
   "metadata": {},
   "outputs": [
    {
     "name": "stdout",
     "output_type": "stream",
     "text": [
      "Fits HDU-0 data successfully loaded. Data shape: (2, 80, 1024, 1024)\n",
      "Fits HDU-0 data successfully loaded. Data shape: (2, 3, 64, 64)\n",
      "Fits HDU-0 data successfully loaded. Data shape: (80,)\n"
     ]
    }
   ],
   "source": [
    "root = './data/DHTau_fake/'\n",
    "# root = './data/HCI'\n",
    "cube_route = os.path.join(root, 'center_im.fits')\n",
    "cube       = open_fits(cube_route, header=False) \n",
    "\n",
    "psf_route = os.path.join(root, 'median_unsat.fits')\n",
    "psf       = open_fits(psf_route, header=False)\n",
    "\n",
    "ra_route = os.path.join(root, 'rotnth.fits')\n",
    "rot_ang  = open_fits(ra_route, header=False)\n",
    "rot_ang  = -rot_ang\n",
    "\n",
    "# lam_route   = os.path.join(root, 'lam.fits')\n",
    "# lambdas_inf = open_fits(lam_route, header=False)\n",
    "\n",
    "lambda_ch = 0 # channel to use\n",
    "psf_pos   = 0 # psf position"
   ]
  },
  {
   "cell_type": "code",
   "execution_count": 3,
   "id": "c3a90039",
   "metadata": {},
   "outputs": [
    {
     "data": {
      "text/plain": [
       "<matplotlib.image.AxesImage at 0x7f4892f9bdc0>"
      ]
     },
     "execution_count": 3,
     "metadata": {},
     "output_type": "execute_result"
    },
    {
     "data": {
      "image/png": "[encoded data removed]",
      "text/plain": [
       "<Figure size 500x500 with 1 Axes>"
      ]
     },
     "metadata": {
      "needs_background": "light"
     },
     "output_type": "display_data"
    }
   ],
   "source": [
    "plt.figure(figsize=(5,5), dpi=100)\n",
    "plt.imshow(cube[0, 0])"
   ]
  },
  {
   "cell_type": "code",
   "execution_count": 4,
   "id": "89e4dd2c",
   "metadata": {},
   "outputs": [],
   "source": [
    "def modify_shape_and_center(img, shift_h=1, shift_w=1):\n",
    "    # Get the height and width of the image\n",
    "    height, width = img.shape[:2]\n",
    "\n",
    "    # Increase the image size by 1 pixel\n",
    "    new_height = height + shift_h\n",
    "    new_width = width + shift_w\n",
    "\n",
    "    # Create a new image with the increased size\n",
    "    new_img = np.zeros((new_height, new_width))\n",
    "\n",
    "    # Calculate the offset needed to center the original image in the new image\n",
    "    x_offset = int((new_width - width) / 2)\n",
    "    y_offset = int((new_height - height) / 2)\n",
    "\n",
    "    # Copy the original image into the center of the new image\n",
    "    new_img[y_offset:y_offset+height, x_offset:x_offset+width] = img\n",
    "\n",
    "    return new_img"
   ]
  },
  {
   "cell_type": "code",
   "execution_count": 5,
   "id": "b3f0d72f",
   "metadata": {},
   "outputs": [],
   "source": [
    "psf_even = []\n",
    "for curr_psf in psf[lambda_ch]:\n",
    "    psf_even.append(modify_shape_and_center(curr_psf, shift_h=1, shift_w=1)) \n",
    "psf_even = np.array(psf_even)"
   ]
  },
  {
   "cell_type": "code",
   "execution_count": 6,
   "id": "8106ffdd",
   "metadata": {},
   "outputs": [
    {
     "data": {
      "text/plain": [
       "Text(0.5, 1.0, '(3, 65, 65)')"
      ]
     },
     "execution_count": 6,
     "metadata": {},
     "output_type": "execute_result"
    },
    {
     "data": {
      "image/png": "[encoded data removed]",
      "text/plain": [
       "<Figure size 432x288 with 2 Axes>"
      ]
     },
     "metadata": {
      "needs_background": "light"
     },
     "output_type": "display_data"
    }
   ],
   "source": [
    "fig, axes = plt.subplots(1, 2)\n",
    "axes[0].imshow(psf[lambda_ch, 0])\n",
    "axes[0].set_title(psf.shape)\n",
    "\n",
    "im = axes[1].imshow(psf_even[0])\n",
    "axes[1].set_title(psf_even.shape)"
   ]
  },
  {
   "cell_type": "markdown",
   "id": "720d9374",
   "metadata": {},
   "source": [
    "## Normalize PSF"
   ]
  },
  {
   "cell_type": "code",
   "execution_count": 7,
   "id": "a8e1258f",
   "metadata": {},
   "outputs": [],
   "source": [
    "import vip_hci as vip"
   ]
  },
  {
   "cell_type": "code",
   "execution_count": 8,
   "id": "f9f40fc0",
   "metadata": {},
   "outputs": [
    {
     "name": "stdout",
     "output_type": "stream",
     "text": [
      "――――――――――――――――――――――――――――――――――――――――――――――――――――――――――――――――――――――――――――――――\n",
      "Starting time: 2023-05-05 14:30:02\n",
      "――――――――――――――――――――――――――――――――――――――――――――――――――――――――――――――――――――――――――――――――\n",
      "`subi_size` is odd (while frame size is even)\n",
      "Setting `subi_size` to 8 pixels\n",
      "Shifting\n",
      "0% [##############################] 100% | ETA: 00:00:00\n",
      "Total time elapsed: 00:00:00\n",
      "Running time:  0:00:00.443975\n",
      "――――――――――――――――――――――――――――――――――――――――――――――――――――――――――――――――――――――――――――――――\n"
     ]
    },
    {
     "data": {
      "image/png": "[encoded data removed]",
      "text/plain": [
       "<Figure size 576x360 with 1 Axes>"
      ]
     },
     "metadata": {
      "needs_background": "light"
     },
     "output_type": "display_data"
    },
    {
     "data": {
      "image/png": "[encoded data removed]",
      "text/plain": [
       "<Figure size 576x360 with 1 Axes>"
      ]
     },
     "metadata": {
      "needs_background": "light"
     },
     "output_type": "display_data"
    }
   ],
   "source": [
    "single_psf = psf[lambda_ch, psf_pos, :-1, :-1]\n",
    "ceny, cenx = frame_center(single_psf)\n",
    "imside = single_psf.shape[0]\n",
    "cropsize = 30\n",
    "\n",
    "fit = vip.var.fit_2dgaussian(single_psf, \n",
    "                             crop=True, \n",
    "                             cropsize=30, \n",
    "                             debug=False, \n",
    "                             full_output=True) \n",
    "fwhm_sphere = np.mean([fit.fwhm_y,fit.fwhm_x]) \n",
    "\n",
    "y_cent, x_cent = frame_center(single_psf) \n",
    "y_c=int(y_cent)\n",
    "x_c=int(x_cent)\n",
    "psf_center, y0_sh, x0_sh = vip.preproc.recentering.cube_recenter_2dfit(psf[lambda_ch], (y_c, x_c), \n",
    "                                                                       fwhm_sphere,model='gauss',\n",
    "                                                                       nproc=8, subi_size=7, negative=False,\n",
    "                                                                       full_output=False, \n",
    "                                                                       debug=False)"
   ]
  },
  {
   "cell_type": "code",
   "execution_count": 9,
   "id": "7100b965",
   "metadata": {},
   "outputs": [
    {
     "name": "stdout",
     "output_type": "stream",
     "text": [
      "`Force_odd` is True and frame size is even, therefore new frame size was set to 63\n",
      "Flux in 1xFWHM aperture: 91267.747\n"
     ]
    }
   ],
   "source": [
    "psf_norm, fwhm_flux,fwhm = normalize_psf(psf_center, \n",
    "                                         fwhm=fwhm_sphere, \n",
    "                                         size=None, \n",
    "                                         threshold=None, \n",
    "                                         mask_core=None,\n",
    "                                         full_output=True, \n",
    "                                         verbose=True)  #psf normalizzata ad 1"
   ]
  },
  {
   "cell_type": "markdown",
   "id": "550dd0b9",
   "metadata": {},
   "source": [
    "## Angular Differential Imaging (ADI)"
   ]
  },
  {
   "cell_type": "code",
   "execution_count": 10,
   "id": "e78351ab",
   "metadata": {},
   "outputs": [
    {
     "name": "stdout",
     "output_type": "stream",
     "text": [
      "――――――――――――――――――――――――――――――――――――――――――――――――――――――――――――――――――――――――――――――――\n",
      "Starting time: 2023-05-05 14:30:14\n",
      "――――――――――――――――――――――――――――――――――――――――――――――――――――――――――――――――――――――――――――――――\n",
      "System total memory = 270.406 GB\n",
      "System available memory = 226.637 GB\n",
      "Done vectorizing the frames. Matrix shape: (80, 1048576)\n",
      "Done PCA with cupy eigh function (GPU)\n",
      "Running time:  0:00:14.764613\n",
      "――――――――――――――――――――――――――――――――――――――――――――――――――――――――――――――――――――――――――――――――\n",
      "Done de-rotating and combining\n",
      "Running time:  0:00:44.653521\n",
      "――――――――――――――――――――――――――――――――――――――――――――――――――――――――――――――――――――――――――――――――\n",
      "CPU times: user 47.7 s, sys: 3 s, total: 50.7 s\n",
      "Wall time: 44.7 s\n"
     ]
    }
   ],
   "source": [
    "%%time\n",
    "fr_pca = vip.psfsub.pca(cube[0], \n",
    "                            rot_ang,\n",
    "                            svd_mode='eigencupy', \n",
    "                            full_output=False,\n",
    "                            imlib='opencv') #pca image of the system"
   ]
  },
  {
   "cell_type": "code",
   "execution_count": 11,
   "id": "52cb4cf1",
   "metadata": {},
   "outputs": [
    {
     "data": {
      "text/plain": [
       "<matplotlib.image.AxesImage at 0x7f4890598b80>"
      ]
     },
     "execution_count": 11,
     "metadata": {},
     "output_type": "execute_result"
    },
    {
     "data": {
      "image/png": "[encoded data removed]",
      "text/plain": [
       "<Figure size 432x288 with 1 Axes>"
      ]
     },
     "metadata": {
      "needs_background": "light"
     },
     "output_type": "display_data"
    }
   ],
   "source": [
    "plt.imshow(fr_pca)"
   ]
  },
  {
   "cell_type": "markdown",
   "id": "3377a472",
   "metadata": {},
   "source": [
    "## Detection"
   ]
  },
  {
   "cell_type": "code",
   "execution_count": 12,
   "id": "8616db26",
   "metadata": {
    "scrolled": true
   },
   "outputs": [
    {
     "name": "stdout",
     "output_type": "stream",
     "text": [
      "Blobs found: 9\n",
      " ycen   xcen\n",
      "------ ------\n",
      "367.857 \t 385.836\n",
      "511.953 \t 519.166\n",
      "504.432 \t 521.179\n",
      "507.957 \t 502.530\n",
      "519.285 \t 503.017\n",
      "521.467 \t 524.557\n",
      "399.929 \t 299.975\n",
      "732.760 \t 549.484\n",
      "541.256 \t 524.970\n",
      "\n",
      "――――――――――――――――――――――――――――――――――――――――――――――――――――――――――――――――――――――――――――――――\n",
      "X,Y = (385.8,367.9)\n",
      "――――――――――――――――――――――――――――――――――――――――――――――――――――――――――――――――――――――――――――――――\n",
      "Coords of chosen px (X,Y) = 385.8, 367.9\n",
      "Flux in a centered 1xFWHM circular aperture = 315.378\n",
      "Central pixel S/N = 66.342\n",
      "――――――――――――――――――――――――――――――――――――――――――――――――――――――――――――――――――――――――――――――――\n",
      "Inside a centered 1xFWHM circular aperture:\n",
      "Mean S/N (shifting the aperture center) = 50.439\n",
      "Max S/N (shifting the aperture center) = 67.117\n",
      "stddev S/N (shifting the aperture center) = 15.607\n",
      "\n",
      "\n",
      "――――――――――――――――――――――――――――――――――――――――――――――――――――――――――――――――――――――――――――――――\n",
      "X,Y = (519.2,512.0)\n",
      "S/N constraint NOT fulfilled (S/N = 3.810)\n",
      "\n",
      "――――――――――――――――――――――――――――――――――――――――――――――――――――――――――――――――――――――――――――――――\n",
      "X,Y = (521.2,504.4)\n",
      "S/N constraint NOT fulfilled (S/N = 3.402)\n",
      "\n",
      "――――――――――――――――――――――――――――――――――――――――――――――――――――――――――――――――――――――――――――――――\n",
      "X,Y = (502.5,508.0)\n",
      "S/N constraint NOT fulfilled (S/N = 1.948)\n",
      "\n",
      "――――――――――――――――――――――――――――――――――――――――――――――――――――――――――――――――――――――――――――――――\n",
      "X,Y = (503.0,519.3)\n",
      "S/N constraint NOT fulfilled (S/N = 1.980)\n",
      "\n",
      "――――――――――――――――――――――――――――――――――――――――――――――――――――――――――――――――――――――――――――――――\n",
      "X,Y = (524.6,521.5)\n",
      "S/N constraint NOT fulfilled (S/N = 0.947)\n",
      "\n",
      "――――――――――――――――――――――――――――――――――――――――――――――――――――――――――――――――――――――――――――――――\n",
      "X,Y = (300.0,399.9)\n",
      "――――――――――――――――――――――――――――――――――――――――――――――――――――――――――――――――――――――――――――――――\n",
      "Coords of chosen px (X,Y) = 300.0, 399.9\n",
      "Flux in a centered 1xFWHM circular aperture = 3.183\n",
      "Central pixel S/N = 43.476\n",
      "――――――――――――――――――――――――――――――――――――――――――――――――――――――――――――――――――――――――――――――――\n",
      "Inside a centered 1xFWHM circular aperture:\n",
      "Mean S/N (shifting the aperture center) = 31.649\n",
      "Max S/N (shifting the aperture center) = 43.318\n",
      "stddev S/N (shifting the aperture center) = 7.892\n",
      "\n",
      "\n",
      "――――――――――――――――――――――――――――――――――――――――――――――――――――――――――――――――――――――――――――――――\n",
      "X,Y = (549.5,732.8)\n",
      "――――――――――――――――――――――――――――――――――――――――――――――――――――――――――――――――――――――――――――――――\n",
      "Coords of chosen px (X,Y) = 549.5, 732.8\n",
      "Flux in a centered 1xFWHM circular aperture = 1.604\n",
      "Central pixel S/N = 24.163\n",
      "――――――――――――――――――――――――――――――――――――――――――――――――――――――――――――――――――――――――――――――――\n",
      "Inside a centered 1xFWHM circular aperture:\n",
      "Mean S/N (shifting the aperture center) = 18.545\n",
      "Max S/N (shifting the aperture center) = 23.604\n",
      "stddev S/N (shifting the aperture center) = 2.800\n",
      "\n",
      "\n",
      "――――――――――――――――――――――――――――――――――――――――――――――――――――――――――――――――――――――――――――――――\n",
      "X,Y = (525.0,541.3)\n",
      "S/N constraint NOT fulfilled (S/N = 0.975)\n",
      "――――――――――――――――――――――――――――――――――――――――――――――――――――――――――――――――――――――――――――――――\n"
     ]
    }
   ],
   "source": [
    "res = vip.metrics.detection(fr_pca, fwhm=fwhm, psf=psf_norm, bkg_sigma=5, snr_thresh=5, \n",
    "                            debug=False, plot=False, verbose=True, full_output=True)"
   ]
  },
  {
   "cell_type": "code",
   "execution_count": 13,
   "id": "dae5a91e",
   "metadata": {},
   "outputs": [
    {
     "data": {
      "text/html": [
       "<div>\n",
       "<style scoped>\n",
       "    .dataframe tbody tr th:only-of-type {\n",
       "        vertical-align: middle;\n",
       "    }\n",
       "\n",
       "    .dataframe tbody tr th {\n",
       "        vertical-align: top;\n",
       "    }\n",
       "\n",
       "    .dataframe thead th {\n",
       "        text-align: right;\n",
       "    }\n",
       "</style>\n",
       "<table border=\"1\" class=\"dataframe\">\n",
       "  <thead>\n",
       "    <tr style=\"text-align: right;\">\n",
       "      <th></th>\n",
       "      <th>y</th>\n",
       "      <th>x</th>\n",
       "      <th>px_snr</th>\n",
       "    </tr>\n",
       "  </thead>\n",
       "  <tbody>\n",
       "    <tr>\n",
       "      <th>0</th>\n",
       "      <td>367.857428</td>\n",
       "      <td>385.835709</td>\n",
       "      <td>66.341573</td>\n",
       "    </tr>\n",
       "    <tr>\n",
       "      <th>1</th>\n",
       "      <td>399.929333</td>\n",
       "      <td>299.975408</td>\n",
       "      <td>43.475600</td>\n",
       "    </tr>\n",
       "    <tr>\n",
       "      <th>2</th>\n",
       "      <td>732.759591</td>\n",
       "      <td>549.483627</td>\n",
       "      <td>24.162558</td>\n",
       "    </tr>\n",
       "  </tbody>\n",
       "</table>\n",
       "</div>"
      ],
      "text/plain": [
       "            y           x     px_snr\n",
       "0  367.857428  385.835709  66.341573\n",
       "1  399.929333  299.975408  43.475600\n",
       "2  732.759591  549.483627  24.162558"
      ]
     },
     "execution_count": 13,
     "metadata": {},
     "output_type": "execute_result"
    }
   ],
   "source": [
    "res"
   ]
  },
  {
   "cell_type": "markdown",
   "id": "bd62528c",
   "metadata": {},
   "source": [
    "## Optimizing"
   ]
  },
  {
   "cell_type": "code",
   "execution_count": 31,
   "id": "618a6d17",
   "metadata": {},
   "outputs": [
    {
     "name": "stdout",
     "output_type": "stream",
     "text": [
      "――――――――――――――――――――――――――――――――――――――――――――――――――――――――――――――――――――――――――――――――\n",
      "Starting time: 2023-05-08 13:39:17\n",
      "――――――――――――――――――――――――――――――――――――――――――――――――――――――――――――――――――――――――――――――――\n",
      "\n",
      "――――――――――――――――――――――――――――――――――――――――――――――――――――――――――――――――――――――――――――――――\n",
      "             Planet 0           \n",
      "――――――――――――――――――――――――――――――――――――――――――――――――――――――――――――――――――――――――――――――――\n",
      "\n",
      "Planet 0: flux estimation at the position [367.85742795229544,385.83570898943134], running ...\n",
      "Step | flux    | chi2r\n",
      "1/30   0.100   2.771\n",
      "2/30   0.149   2.775\n",
      "3/30   0.221   2.781\n",
      "4/30   0.329   2.789\n",
      "Planet 0: preliminary position guess: (r, theta)=(191.6, 221.2)\n",
      "Planet 0: preliminary flux guess: 0.1\n",
      "Planet 0: Simplex Nelder-Mead minimization, running ...\n",
      "Planet 0: Success: True, nit: 197, nfev: 347, chi2r: 0.015265708969485375\n",
      "message: Optimization terminated successfully.\n",
      "Planet 0: simplex result: (r, theta, f)=(191.774, 235.411, 99.251) at \n",
      "          (X,Y)=(403.13, 354.12)\n",
      "\n",
      " ―――――――――――――――――――――――――――――――――――――――――――――――――――――――――――――――――――――――――――――――― \n",
      "DONE !\n",
      " ――――――――――――――――――――――――――――――――――――――――――――――――――――――――――――――――――――――――――――――――\n",
      "Running time:  2:36:54.076103\n",
      "――――――――――――――――――――――――――――――――――――――――――――――――――――――――――――――――――――――――――――――――\n",
      "CPU times: user 2h 50min 6s, sys: 18min 26s, total: 3h 8min 33s\n",
      "Wall time: 2h 36min 54s\n"
     ]
    }
   ],
   "source": [
    "%%time\n",
    "results = vip.fm.negfc_simplex.firstguess(cube[0], \n",
    "                                          angs=rot_ang,       \n",
    "                                          psfn=psf_norm, \n",
    "                                          ncomp=2, \n",
    "                                          planets_xy_coord=[(res.iloc[0]['y'], res.iloc[0]['x'])],\n",
    "                                          imlib='opencv',\n",
    "                                          fwhm=fwhm,\n",
    "                                          simplex=True,\n",
    "                                          annulus_width=4*fwhm,\n",
    "                                          aperture_radius=2,\n",
    "                                         algo_options={\n",
    "                                             'nproc': 32,\n",
    "                                             'imlib': 'opencv'\n",
    "                                         })"
   ]
  },
  {
   "cell_type": "code",
   "execution_count": 16,
   "id": "3dc1af36",
   "metadata": {},
   "outputs": [],
   "source": [
    "radius_fguess = results[0][0]\n",
    "theta_fguess  = results[1][0]\n",
    "flux_fguess   = results[2][0]"
   ]
  },
  {
   "cell_type": "code",
   "execution_count": 24,
   "id": "96143e2d",
   "metadata": {},
   "outputs": [],
   "source": [
    "centy_fr, centx_fr = frame_center(cube[0])\n",
    "posy = radius_fguess * np.sin(np.deg2rad(theta_fguess)) + centy_fr\n",
    "posx = radius_fguess * np.cos(np.deg2rad(theta_fguess)) + centx_fr"
   ]
  },
  {
   "cell_type": "code",
   "execution_count": 30,
   "id": "fde21f67",
   "metadata": {},
   "outputs": [
    {
     "data": {
      "text/plain": [
       "(343.1316372238372, 463.1316372238372)"
      ]
     },
     "execution_count": 30,
     "metadata": {},
     "output_type": "execute_result"
    },
    {
     "data": {
      "image/png": "[encoded data removed]",
      "text/plain": [
       "<Figure size 432x288 with 1 Axes>"
      ]
     },
     "metadata": {
      "needs_background": "light"
     },
     "output_type": "display_data"
    }
   ],
   "source": [
    "plt.figure()\n",
    "plt.imshow(fr_pca)\n",
    "plt.scatter(posx, posy, marker='x')\n",
    "plt.ylim(posy-60, posx+60)\n",
    "plt.xlim(posx-60, posx+60)"
   ]
  },
  {
   "cell_type": "code",
   "execution_count": null,
   "id": "70703ac1",
   "metadata": {},
   "outputs": [],
   "source": []
  }
 ],
 "metadata": {
  "kernelspec": {
   "display_name": "Python 3 (ipykernel)",
   "language": "python",
   "name": "python3"
  },
  "language_info": {
   "codemirror_mode": {
    "name": "ipython",
    "version": 3
   },
   "file_extension": ".py",
   "mimetype": "text/x-python",
   "name": "python",
   "nbconvert_exporter": "python",
   "pygments_lexer": "ipython3",
   "version": "3.9.12"
  }
 },
 "nbformat": 4,
 "nbformat_minor": 5
}
