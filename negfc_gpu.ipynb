{
 "cells": [
  {
   "cell_type": "code",
   "execution_count": 60,
   "id": "4bbdb2cf",
   "metadata": {},
   "outputs": [],
   "source": [
    "import matplotlib.pyplot as plt\n",
    "import tensorflow as tf\n",
    "import numpy as np\n",
    "\n",
    "from src.preprocess import preprocess_folder\n",
    "from src.format_data import create_dataset\n",
    "from src.model import create_embedding_model\n",
    "from src.losses import get_companion_std, keep_back\n",
    "\n",
    "from tensorflow.keras.optimizers import Adam\n",
    "import os\n",
    "os.environ[\"CUDA_VISIBLE_DEVICES\"] = \"0\"\n",
    "\n",
    "%load_ext autoreload\n",
    "%autoreload 2"
   ]
  },
  {
   "cell_type": "code",
   "execution_count": 61,
   "id": "725f675e",
   "metadata": {},
   "outputs": [],
   "source": [
    "cube, psf, rot_angles, table = preprocess_folder(root='./data/fake', \n",
    "\t\t\t\t\t\t\t\t\t\t\t\t target_folder='./data/fake/preprocessed')\n",
    "\n",
    "table = table[table['snr'] > 3]\n",
    "window_size = 15\n",
    "dataset = create_dataset(cube, psf, rot_angles, table, window_size=window_size,\n",
    "                         batch_size=2000, repeat=20)\n",
    "\n",
    "model = create_embedding_model(window_size=window_size)\n",
    "\n",
    "optimizer = Adam(1e-5)\n",
    "model.compile(loss_fn=keep_back, optimizer=optimizer)\n",
    "\n",
    "es = tf.keras.callbacks.EarlyStopping(\n",
    "        monitor='loss',\n",
    "        min_delta=1e-4,\n",
    "        patience=50,\n",
    "        mode='min',\n",
    "        restore_best_weights=True,\n",
    "    )"
   ]
  },
  {
   "cell_type": "code",
   "execution_count": 62,
   "id": "6c6dd7eb",
   "metadata": {},
   "outputs": [],
   "source": [
    "# model.summary()\n",
    "table"
   ]
  },
  {
   "cell_type": "code",
   "execution_count": null,
   "id": "d9230efb",
   "metadata": {},
   "outputs": [],
   "source": []
  },
  {
   "cell_type": "code",
   "execution_count": null,
   "id": "3e1deaef",
   "metadata": {
    "scrolled": true
   },
   "outputs": [],
   "source": [
    "%%time\n",
    "hist = model.fit(dataset, epochs=10000, callbacks=[es])"
   ]
  },
  {
   "cell_type": "code",
   "execution_count": null,
   "id": "6b64b713",
   "metadata": {},
   "outputs": [],
   "source": [
    "plt.plot(hist.history['loss'])"
   ]
  },
  {
   "cell_type": "code",
   "execution_count": null,
   "id": "6e89207e",
   "metadata": {},
   "outputs": [],
   "source": [
    "test_ds = create_dataset(cube, psf, rot_angles, table, window_size=window_size, batch_size=2000, repeat=1)"
   ]
  },
  {
   "cell_type": "code",
   "execution_count": null,
   "id": "ff1990ae",
   "metadata": {},
   "outputs": [],
   "source": [
    "pred, params = model.predict(test_ds)"
   ]
  },
  {
   "cell_type": "code",
   "execution_count": null,
   "id": "eead6299",
   "metadata": {},
   "outputs": [],
   "source": [
    "fig, axes = plt.subplots(1, 3)\n",
    "print(np.median(params[-3]))\n",
    "for x, y in test_ds:\n",
    "    n = 0\n",
    "\n",
    "    win_0 = tf.squeeze(x['windows'][n], axis=-1)\n",
    "    win_1 = pred[n]\n",
    "    \n",
    "    axes[0].imshow(win_0)\n",
    "    axes[1].imshow(win_1)\n",
    "    residuals = tf.math.subtract(win_0, win_1)\n",
    "    res_square = tf.pow(residuals, 2)\n",
    "    print(res_square.shape)\n",
    "    axes[2].set_title('{:.2f}'.format(tf.math.reduce_std(res_square)))\n",
    "    axes[2].imshow(res_square)\n",
    "    break\n",
    "    \n",
    "plt.show()"
   ]
  },
  {
   "cell_type": "code",
   "execution_count": null,
   "id": "68628c18",
   "metadata": {},
   "outputs": [],
   "source": []
  },
  {
   "cell_type": "code",
   "execution_count": null,
   "id": "0f012722",
   "metadata": {},
   "outputs": [],
   "source": []
  }
 ],
 "metadata": {
  "kernelspec": {
   "display_name": "Python 3 (ipykernel)",
   "language": "python",
   "name": "python3"
  },
  "language_info": {
   "codemirror_mode": {
    "name": "ipython",
    "version": 3
   },
   "file_extension": ".py",
   "mimetype": "text/x-python",
   "name": "python",
   "nbconvert_exporter": "python",
   "pygments_lexer": "ipython3",
   "version": "3.8.10"
  }
 },
 "nbformat": 4,
 "nbformat_minor": 5
}
